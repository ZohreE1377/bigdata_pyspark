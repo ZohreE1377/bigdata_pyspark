{
  "cells": [
    {
      "cell_type": "code",
      "execution_count": 1,
      "metadata": {
        "id": "bUXtHqhfl0LA"
      },
      "outputs": [],
      "source": [
        "import pandas as pd\n",
        "import numpy as np\n",
        "from sklearn.model_selection import train_test_split\n",
        "from sklearn.tree import DecisionTreeClassifier\n",
        "from sklearn.naive_bayes import GaussianNB\n",
        "from sklearn.svm import SVC\n",
        "from sklearn.neighbors import KNeighborsClassifier\n",
        "from sklearn.neural_network import MLPClassifier\n",
        "from sklearn.metrics import accuracy_score"
      ]
    },
    {
      "cell_type": "code",
      "execution_count": 2,
      "metadata": {
        "id": "lhdpdEDqJxmW"
      },
      "outputs": [],
      "source": [
        "\n",
        "# خواندن داده‌های RFF از فایل\n",
        "data = pd.read_csv('C:/Users/zohreh/Desktop/NSL-KDD.arff', header=None)\n",
        "\n",
        "# ذخیره داده‌ها به صورت CSV\n",
        "data.to_csv('C:/Users/zohreh/Desktop/NSL-KDD.csv', index=False)\n"
      ]
    },
    {
      "cell_type": "code",
      "execution_count": 3,
      "metadata": {
        "id": "Fyz8QzDrP6XM"
      },
      "outputs": [],
      "source": [
        "\n",
        "# خواندن داده‌های RFF از فایل\n",
        "data = pd.read_csv('C:/Users/zohreh/Desktop/NSL-KDD.csv', header=None)\n",
        "\n",
        "# تعریف نام ستون‌ها جدید\n",
        "new_columns = ['duration', 'protocol_type', 'service', 'flag', 'src_bytes', 'dst_bytes', 'land', 'wrong_fragment', 'urgent',\n",
        "               'hot', 'num_failed_logins', 'logged_in', 'num_compromised', 'root_shell', 'su_attempted', 'num_root',\n",
        "               'num_file_creations', 'num_shells', 'num_access_files', 'num_outbound_cmds', 'is_host_login',\n",
        "               'is_guest_login', 'count', 'srv_count', 'serror_rate', 'srv_serror_rate', 'rerror_rate', 'srv_rerror_rate',\n",
        "               'same_srv_rate', 'diff_srv_rate', 'srv_diff_host_rate', 'dst_host_count', 'dst_host_srv_count',\n",
        "               'dst_host_same_srv_rate', 'dst_host_diff_srv_rate', 'dst_host_same_src_port_rate',\n",
        "               'dst_host_srv_diff_host_rate', 'dst_host_serror_rate', 'dst_host_srv_serror_rate', 'dst_host_rerror_rate',\n",
        "               'dst_host_srv_rerror_rate', 'class']\n",
        "\n",
        "# تغییر نام ستون‌ها در دیتافریم\n",
        "data.columns = new_columns\n",
        "\n",
        "# ذخیره داده‌ها به صورت CSV با نام ستون‌های جدید\n",
        "data.to_csv('C:/Users/zohreh/Desktop/NSL-KDD2.csv', index=False)\n"
      ]
    },
    {
      "cell_type": "code",
      "execution_count": 3,
      "metadata": {
        "colab": {
          "base_uri": "https://localhost:8080/"
        },
        "id": "rB8_KFxrThO1",
        "outputId": "038ba2b4-7229-4ff2-ff7f-99c2c9dd61ed"
      },
      "outputs": [
        {
          "name": "stdout",
          "output_type": "stream",
          "text": [
            "        duration protocol_type   service flag  src_bytes  dst_bytes  land  \\\n",
            "0              0             1         2    3          4          5     6   \n",
            "1              0           tcp  ftp_data   SF        491          0     0   \n",
            "2              0           udp     other   SF        146          0     0   \n",
            "3              0           tcp   private   S0          0          0     0   \n",
            "4              0           tcp      http   SF        232       8153     0   \n",
            "...          ...           ...       ...  ...        ...        ...   ...   \n",
            "125969         0           tcp   private   S0          0          0     0   \n",
            "125970         8           udp   private   SF        105        145     0   \n",
            "125971         0           tcp      smtp   SF       2231        384     0   \n",
            "125972         0           tcp    klogin   S0          0          0     0   \n",
            "125973         0           tcp  ftp_data   SF        151          0     0   \n",
            "\n",
            "        wrong_fragment  urgent  hot  ...  dst_host_srv_count  \\\n",
            "0                    7       8    9  ...                  32   \n",
            "1                    0       0    0  ...                  25   \n",
            "2                    0       0    0  ...                   1   \n",
            "3                    0       0    0  ...                  26   \n",
            "4                    0       0    0  ...                 255   \n",
            "...                ...     ...  ...  ...                 ...   \n",
            "125969               0       0    0  ...                  25   \n",
            "125970               0       0    0  ...                 244   \n",
            "125971               0       0    0  ...                  30   \n",
            "125972               0       0    0  ...                   8   \n",
            "125973               0       0    0  ...                  77   \n",
            "\n",
            "        dst_host_same_srv_rate  dst_host_diff_srv_rate  \\\n",
            "0                        33.00                   34.00   \n",
            "1                         0.17                    0.03   \n",
            "2                         0.00                    0.60   \n",
            "3                         0.10                    0.05   \n",
            "4                         1.00                    0.00   \n",
            "...                        ...                     ...   \n",
            "125969                    0.10                    0.06   \n",
            "125970                    0.96                    0.01   \n",
            "125971                    0.12                    0.06   \n",
            "125972                    0.03                    0.05   \n",
            "125973                    0.30                    0.03   \n",
            "\n",
            "        dst_host_same_src_port_rate  dst_host_srv_diff_host_rate  \\\n",
            "0                             35.00                        36.00   \n",
            "1                              0.17                         0.00   \n",
            "2                              0.88                         0.00   \n",
            "3                              0.00                         0.00   \n",
            "4                              0.03                         0.04   \n",
            "...                             ...                          ...   \n",
            "125969                         0.00                         0.00   \n",
            "125970                         0.01                         0.00   \n",
            "125971                         0.00                         0.00   \n",
            "125972                         0.00                         0.00   \n",
            "125973                         0.30                         0.00   \n",
            "\n",
            "        dst_host_serror_rate  dst_host_srv_serror_rate  dst_host_rerror_rate  \\\n",
            "0                      37.00                     38.00                 39.00   \n",
            "1                       0.00                      0.00                  0.05   \n",
            "2                       0.00                      0.00                  0.00   \n",
            "3                       1.00                      1.00                  0.00   \n",
            "4                       0.03                      0.01                  0.00   \n",
            "...                      ...                       ...                   ...   \n",
            "125969                  1.00                      1.00                  0.00   \n",
            "125970                  0.00                      0.00                  0.00   \n",
            "125971                  0.72                      0.00                  0.01   \n",
            "125972                  1.00                      1.00                  0.00   \n",
            "125973                  0.00                      0.00                  0.00   \n",
            "\n",
            "        dst_host_srv_rerror_rate    class  \n",
            "0                          40.00       41  \n",
            "1                           0.00   normal  \n",
            "2                           0.00   normal  \n",
            "3                           0.00  anomaly  \n",
            "4                           0.01   normal  \n",
            "...                          ...      ...  \n",
            "125969                      0.00  anomaly  \n",
            "125970                      0.00   normal  \n",
            "125971                      0.00   normal  \n",
            "125972                      0.00  anomaly  \n",
            "125973                      0.00   normal  \n",
            "\n",
            "[125974 rows x 42 columns]\n"
          ]
        }
      ],
      "source": [
        "df = pd.read_csv('C:/Users/zohreh/Desktop/NSL-KDD2.csv')\n",
        "\n",
        "# نمایش داده‌های دیتافریم\n",
        "print(df)\n"
      ]
    },
    {
      "cell_type": "code",
      "execution_count": null,
      "metadata": {},
      "outputs": [],
      "source": [
        "import pandas as pd\n",
        "\n",
        "# خواندن دیتاست و ذخیره آن در یک DataFrame\n",
        "df = pd.read_csv('C:/Users/zohreh/Desktop/NSL-KDD2.csv')\n",
        "\n",
        "# حذف سطر دوم\n",
        "df = df.iloc[2:]\n",
        "\n",
        "\n",
        "# تنظیم مجدد شماره ردیف‌ها\n",
        "df.reset_index(drop=True, inplace=True)\n",
        "\n",
        "# ذخیره تغییرات در فایل\n",
        "df.to_csv('C:/Users/zohreh/Desktop/NSL_KDD_3.csv', index=False)"
      ]
    },
    {
      "cell_type": "code",
      "execution_count": 5,
      "metadata": {},
      "outputs": [
        {
          "name": "stdout",
          "output_type": "stream",
          "text": [
            "        duration protocol_type   service flag  src_bytes  dst_bytes  land  \\\n",
            "0              0           udp     other   SF        146          0     0   \n",
            "1              0           tcp   private   S0          0          0     0   \n",
            "2              0           tcp      http   SF        232       8153     0   \n",
            "3              0           tcp      http   SF        199        420     0   \n",
            "4              0           tcp   private  REJ          0          0     0   \n",
            "...          ...           ...       ...  ...        ...        ...   ...   \n",
            "125967         0           tcp   private   S0          0          0     0   \n",
            "125968         8           udp   private   SF        105        145     0   \n",
            "125969         0           tcp      smtp   SF       2231        384     0   \n",
            "125970         0           tcp    klogin   S0          0          0     0   \n",
            "125971         0           tcp  ftp_data   SF        151          0     0   \n",
            "\n",
            "        wrong_fragment  urgent  hot  ...  dst_host_srv_count  \\\n",
            "0                    0       0    0  ...                   1   \n",
            "1                    0       0    0  ...                  26   \n",
            "2                    0       0    0  ...                 255   \n",
            "3                    0       0    0  ...                 255   \n",
            "4                    0       0    0  ...                  19   \n",
            "...                ...     ...  ...  ...                 ...   \n",
            "125967               0       0    0  ...                  25   \n",
            "125968               0       0    0  ...                 244   \n",
            "125969               0       0    0  ...                  30   \n",
            "125970               0       0    0  ...                   8   \n",
            "125971               0       0    0  ...                  77   \n",
            "\n",
            "        dst_host_same_srv_rate  dst_host_diff_srv_rate  \\\n",
            "0                         0.00                    0.60   \n",
            "1                         0.10                    0.05   \n",
            "2                         1.00                    0.00   \n",
            "3                         1.00                    0.00   \n",
            "4                         0.07                    0.07   \n",
            "...                        ...                     ...   \n",
            "125967                    0.10                    0.06   \n",
            "125968                    0.96                    0.01   \n",
            "125969                    0.12                    0.06   \n",
            "125970                    0.03                    0.05   \n",
            "125971                    0.30                    0.03   \n",
            "\n",
            "        dst_host_same_src_port_rate  dst_host_srv_diff_host_rate  \\\n",
            "0                              0.88                         0.00   \n",
            "1                              0.00                         0.00   \n",
            "2                              0.03                         0.04   \n",
            "3                              0.00                         0.00   \n",
            "4                              0.00                         0.00   \n",
            "...                             ...                          ...   \n",
            "125967                         0.00                         0.00   \n",
            "125968                         0.01                         0.00   \n",
            "125969                         0.00                         0.00   \n",
            "125970                         0.00                         0.00   \n",
            "125971                         0.30                         0.00   \n",
            "\n",
            "        dst_host_serror_rate  dst_host_srv_serror_rate  dst_host_rerror_rate  \\\n",
            "0                       0.00                      0.00                  0.00   \n",
            "1                       1.00                      1.00                  0.00   \n",
            "2                       0.03                      0.01                  0.00   \n",
            "3                       0.00                      0.00                  0.00   \n",
            "4                       0.00                      0.00                  1.00   \n",
            "...                      ...                       ...                   ...   \n",
            "125967                  1.00                      1.00                  0.00   \n",
            "125968                  0.00                      0.00                  0.00   \n",
            "125969                  0.72                      0.00                  0.01   \n",
            "125970                  1.00                      1.00                  0.00   \n",
            "125971                  0.00                      0.00                  0.00   \n",
            "\n",
            "        dst_host_srv_rerror_rate    class  \n",
            "0                           0.00   normal  \n",
            "1                           0.00  anomaly  \n",
            "2                           0.01   normal  \n",
            "3                           0.00   normal  \n",
            "4                           1.00  anomaly  \n",
            "...                          ...      ...  \n",
            "125967                      0.00  anomaly  \n",
            "125968                      0.00   normal  \n",
            "125969                      0.00   normal  \n",
            "125970                      0.00  anomaly  \n",
            "125971                      0.00   normal  \n",
            "\n",
            "[125972 rows x 42 columns]\n"
          ]
        }
      ],
      "source": [
        "import pandas as pd\n",
        "\n",
        "# خواندن دیتاست و ذخیره آن در یک DataFrame\n",
        "df = pd.read_csv('C:/Users/zohreh/Desktop/NSL_KDD_3.csv')\n",
        "\n",
        "# نمایش سطرها و ستون‌های داده\n",
        "print(df)\n"
      ]
    },
    {
      "cell_type": "code",
      "execution_count": 6,
      "metadata": {},
      "outputs": [
        {
          "name": "stdout",
          "output_type": "stream",
          "text": [
            "duration                            0\n",
            "protocol_type                     udp\n",
            "service                         other\n",
            "flag                               SF\n",
            "src_bytes                         146\n",
            "dst_bytes                           0\n",
            "land                                0\n",
            "wrong_fragment                      0\n",
            "urgent                              0\n",
            "hot                                 0\n",
            "num_failed_logins                   0\n",
            "logged_in                           0\n",
            "num_compromised                     0\n",
            "root_shell                          0\n",
            "su_attempted                        0\n",
            "num_root                            0\n",
            "num_file_creations                  0\n",
            "num_shells                          0\n",
            "num_access_files                    0\n",
            "num_outbound_cmds                   0\n",
            "is_host_login                       0\n",
            "is_guest_login                      0\n",
            "count                              13\n",
            "srv_count                           1\n",
            "serror_rate                       0.0\n",
            "srv_serror_rate                   0.0\n",
            "rerror_rate                       0.0\n",
            "srv_rerror_rate                   0.0\n",
            "same_srv_rate                    0.08\n",
            "diff_srv_rate                    0.15\n",
            "srv_diff_host_rate                0.0\n",
            "dst_host_count                    255\n",
            "dst_host_srv_count                  1\n",
            "dst_host_same_srv_rate            0.0\n",
            "dst_host_diff_srv_rate            0.6\n",
            "dst_host_same_src_port_rate      0.88\n",
            "dst_host_srv_diff_host_rate       0.0\n",
            "dst_host_serror_rate              0.0\n",
            "dst_host_srv_serror_rate          0.0\n",
            "dst_host_rerror_rate              0.0\n",
            "dst_host_srv_rerror_rate          0.0\n",
            "class                          normal\n",
            "Name: 0, dtype: object\n"
          ]
        }
      ],
      "source": [
        "row_zero = df.iloc[0]\n",
        "print(row_zero)"
      ]
    },
    {
      "cell_type": "code",
      "execution_count": 7,
      "metadata": {
        "id": "d-ixoLyWBUbW"
      },
      "outputs": [],
      "source": [
        "df['class'] = df['class'].replace({'normal': 0, 'anomaly': 1})"
      ]
    },
    {
      "cell_type": "code",
      "execution_count": 8,
      "metadata": {
        "colab": {
          "base_uri": "https://localhost:8080/"
        },
        "id": "iolsjujQVwFf",
        "outputId": "5997cc5a-dbac-45f4-db8a-4ea31c68f417"
      },
      "outputs": [
        {
          "name": "stdout",
          "output_type": "stream",
          "text": [
            "[0 1]\n"
          ]
        }
      ],
      "source": [
        "class_values = df['class'].unique()\n",
        "print(class_values)"
      ]
    },
    {
      "cell_type": "code",
      "execution_count": 9,
      "metadata": {
        "colab": {
          "base_uri": "https://localhost:8080/"
        },
        "id": "71vM6Q5cXP5l",
        "outputId": "22c6e5f0-5876-490e-c44c-360e3a3874b3"
      },
      "outputs": [
        {
          "name": "stdout",
          "output_type": "stream",
          "text": [
            "0         0\n",
            "1         1\n",
            "2         0\n",
            "3         0\n",
            "4         1\n",
            "         ..\n",
            "125967    1\n",
            "125968    0\n",
            "125969    0\n",
            "125970    1\n",
            "125971    0\n",
            "Name: class, Length: 125972, dtype: int64\n"
          ]
        }
      ],
      "source": [
        "print(df['class'])"
      ]
    },
    {
      "cell_type": "code",
      "execution_count": 10,
      "metadata": {},
      "outputs": [
        {
          "name": "stdout",
          "output_type": "stream",
          "text": [
            "       protocol_type   service flag\n",
            "0                udp     other   SF\n",
            "1                tcp   private   S0\n",
            "2                tcp      http   SF\n",
            "3                tcp      http   SF\n",
            "4                tcp   private  REJ\n",
            "...              ...       ...  ...\n",
            "125967           tcp   private   S0\n",
            "125968           udp   private   SF\n",
            "125969           tcp      smtp   SF\n",
            "125970           tcp    klogin   S0\n",
            "125971           tcp  ftp_data   SF\n",
            "\n",
            "[125972 rows x 3 columns]\n"
          ]
        }
      ],
      "source": [
        "# انتخاب ستون‌های داده رشته‌ای\n",
        "string_columns = df.select_dtypes(include='object')\n",
        "\n",
        "# چاپ داده‌های رشته‌ای\n",
        "print(string_columns)"
      ]
    },
    {
      "cell_type": "code",
      "execution_count": 11,
      "metadata": {},
      "outputs": [
        {
          "name": "stdout",
          "output_type": "stream",
          "text": [
            "        duration  src_bytes  dst_bytes  land  wrong_fragment  urgent  hot  \\\n",
            "0              0        146          0     0               0       0    0   \n",
            "1              0          0          0     0               0       0    0   \n",
            "2              0        232       8153     0               0       0    0   \n",
            "3              0        199        420     0               0       0    0   \n",
            "4              0          0          0     0               0       0    0   \n",
            "...          ...        ...        ...   ...             ...     ...  ...   \n",
            "125967         0          0          0     0               0       0    0   \n",
            "125968         8        105        145     0               0       0    0   \n",
            "125969         0       2231        384     0               0       0    0   \n",
            "125970         0          0          0     0               0       0    0   \n",
            "125971         0        151          0     0               0       0    0   \n",
            "\n",
            "        num_failed_logins  logged_in  num_compromised  ...  \\\n",
            "0                       0          0                0  ...   \n",
            "1                       0          0                0  ...   \n",
            "2                       0          1                0  ...   \n",
            "3                       0          1                0  ...   \n",
            "4                       0          0                0  ...   \n",
            "...                   ...        ...              ...  ...   \n",
            "125967                  0          0                0  ...   \n",
            "125968                  0          0                0  ...   \n",
            "125969                  0          1                0  ...   \n",
            "125970                  0          0                0  ...   \n",
            "125971                  0          1                0  ...   \n",
            "\n",
            "        dst_host_srv_count  dst_host_same_srv_rate  dst_host_diff_srv_rate  \\\n",
            "0                        1                    0.00                    0.60   \n",
            "1                       26                    0.10                    0.05   \n",
            "2                      255                    1.00                    0.00   \n",
            "3                      255                    1.00                    0.00   \n",
            "4                       19                    0.07                    0.07   \n",
            "...                    ...                     ...                     ...   \n",
            "125967                  25                    0.10                    0.06   \n",
            "125968                 244                    0.96                    0.01   \n",
            "125969                  30                    0.12                    0.06   \n",
            "125970                   8                    0.03                    0.05   \n",
            "125971                  77                    0.30                    0.03   \n",
            "\n",
            "        dst_host_same_src_port_rate  dst_host_srv_diff_host_rate  \\\n",
            "0                              0.88                         0.00   \n",
            "1                              0.00                         0.00   \n",
            "2                              0.03                         0.04   \n",
            "3                              0.00                         0.00   \n",
            "4                              0.00                         0.00   \n",
            "...                             ...                          ...   \n",
            "125967                         0.00                         0.00   \n",
            "125968                         0.01                         0.00   \n",
            "125969                         0.00                         0.00   \n",
            "125970                         0.00                         0.00   \n",
            "125971                         0.30                         0.00   \n",
            "\n",
            "        dst_host_serror_rate  dst_host_srv_serror_rate  dst_host_rerror_rate  \\\n",
            "0                       0.00                      0.00                  0.00   \n",
            "1                       1.00                      1.00                  0.00   \n",
            "2                       0.03                      0.01                  0.00   \n",
            "3                       0.00                      0.00                  0.00   \n",
            "4                       0.00                      0.00                  1.00   \n",
            "...                      ...                       ...                   ...   \n",
            "125967                  1.00                      1.00                  0.00   \n",
            "125968                  0.00                      0.00                  0.00   \n",
            "125969                  0.72                      0.00                  0.01   \n",
            "125970                  1.00                      1.00                  0.00   \n",
            "125971                  0.00                      0.00                  0.00   \n",
            "\n",
            "        dst_host_srv_rerror_rate  class  \n",
            "0                           0.00      0  \n",
            "1                           0.00      1  \n",
            "2                           0.01      0  \n",
            "3                           0.00      0  \n",
            "4                           1.00      1  \n",
            "...                          ...    ...  \n",
            "125967                      0.00      1  \n",
            "125968                      0.00      0  \n",
            "125969                      0.00      0  \n",
            "125970                      0.00      1  \n",
            "125971                      0.00      0  \n",
            "\n",
            "[125972 rows x 39 columns]\n"
          ]
        }
      ],
      "source": [
        "# انتخاب ستون‌های داده رشته‌ای\n",
        "string_columns = df.select_dtypes(include='object')\n",
        "\n",
        "# حذف ستون‌های داده رشته‌ای\n",
        "df = df.drop(string_columns, axis=1)\n",
        "\n",
        "# چاپ DataFrame بدون ستون‌های داده رشته‌ای\n",
        "print(df)"
      ]
    },
    {
      "cell_type": "code",
      "execution_count": 12,
      "metadata": {},
      "outputs": [],
      "source": [
        "X = df.drop('class', axis=1)\n",
        "y = df['class']\n",
        "X_train, X_test, y_train, y_test = train_test_split(X, y, test_size=0.2, random_state=42)"
      ]
    },
    {
      "cell_type": "code",
      "execution_count": 13,
      "metadata": {},
      "outputs": [
        {
          "name": "stdout",
          "output_type": "stream",
          "text": [
            "Accuracy: 0.9977773367731693\n"
          ]
        }
      ],
      "source": [
        "#step1\n",
        "#DecisionTree\n",
        "from sklearn.tree import DecisionTreeClassifier\n",
        "from sklearn.metrics import accuracy_score\n",
        "DecisionTree = DecisionTreeClassifier()\n",
        "DecisionTree.fit(X_train, y_train)\n",
        "Dt_pred = DecisionTree.predict(X_test)\n",
        "accuracy = accuracy_score(y_test, Dt_pred)\n",
        "print(\"Accuracy:\", accuracy)"
      ]
    },
    {
      "cell_type": "code",
      "execution_count": 13,
      "metadata": {},
      "outputs": [
        {
          "name": "stdout",
          "output_type": "stream",
          "text": [
            "Accuracy: 0.5303830125024807\n"
          ]
        }
      ],
      "source": [
        "#step2\n",
        "#Gaussian Naive Bayes\n",
        "from sklearn.naive_bayes import GaussianNB\n",
        "import matplotlib.pyplot as plt\n",
        "\n",
        "# Create a Gaussian Naive Bayes classifier\n",
        "gaussian_nb = GaussianNB()\n",
        "# Train the classifier on the training data\n",
        "gaussian_nb.fit(X_train, y_train)\n",
        "# Make predictions on the test data\n",
        "G_nb_pred = gaussian_nb.predict(X_test)\n",
        "# Calculate the accuracy of the classifier\n",
        "accuracy = accuracy_score(y_test, G_nb_pred)\n",
        "# Print the accuracy\n",
        "print(\"Accuracy:\", accuracy)"
      ]
    },
    {
      "cell_type": "code",
      "execution_count": 16,
      "metadata": {},
      "outputs": [
        {
          "name": "stdout",
          "output_type": "stream",
          "text": [
            "Accuracy: 0.5319309386783092\n"
          ]
        }
      ],
      "source": [
        "#step3\n",
        "#svm\n",
        "from sklearn.svm import SVC\n",
        "from sklearn.metrics import accuracy_score\n",
        "# Create an SVM classifier\n",
        "svm = SVC()\n",
        "# Train the classifier on the training data\n",
        "svm.fit(X_train, y_train)\n",
        "# Make predictions on the test data\n",
        "svm_pred = svm.predict(X_test)\n",
        "# Calculate the accuracy of the classifier\n",
        "accuracy = accuracy_score(y_test, svm_pred)\n",
        "# Print the accuracy\n",
        "print(\"Accuracy:\", accuracy)"
      ]
    },
    {
      "cell_type": "code",
      "execution_count": 14,
      "metadata": {
        "colab": {
          "base_uri": "https://localhost:8080/"
        },
        "id": "zDicM9IMOTd-",
        "outputId": "6f224797-007b-43e6-ce59-897fbdb0ff5d"
      },
      "outputs": [
        {
          "name": "stdout",
          "output_type": "stream",
          "text": [
            "Accuracy: 0.9955943639611033\n"
          ]
        }
      ],
      "source": [
        "#step4\n",
        "#KNN\n",
        "from sklearn.neighbors import KNeighborsClassifier\n",
        "from sklearn.metrics import accuracy_score\n",
        "# Create a KNN classifier\n",
        "knn = KNeighborsClassifier()\n",
        "# Train the classifier on the training data\n",
        "knn.fit(X_train, y_train)\n",
        "# Make predictions on the test data\n",
        "KNN_pred = knn.predict(X_test)\n",
        "# Calculate the accuracy of the classifier\n",
        "accuracy = accuracy_score(y_test, KNN_pred)\n",
        "# Print the accuracy\n",
        "print(\"Accuracy:\", accuracy)\n",
        "\n"
      ]
    },
    {
      "cell_type": "code",
      "execution_count": 15,
      "metadata": {
        "id": "8LI0RmpQRUwj"
      },
      "outputs": [
        {
          "name": "stdout",
          "output_type": "stream",
          "text": [
            "Accuracy: 0.9626513197062909\n"
          ]
        }
      ],
      "source": [
        "#step5\n",
        "#Backpropagation\n",
        "Backpropagation = MLPClassifier()\n",
        "Backpropagation.fit(X_train, y_train)\n",
        "BP_pred = Backpropagation.predict(X_test)\n",
        "BP_accuracy = accuracy_score(y_test, BP_pred)\n",
        "print(\"Accuracy:\", BP_accuracy)\n"
      ]
    },
    {
      "cell_type": "code",
      "execution_count": 24,
      "metadata": {},
      "outputs": [
        {
          "name": "stdout",
          "output_type": "stream",
          "text": [
            "Confusion Matrix for each model:\n",
            "---------------------------\n",
            "DT:\n",
            "        Predicted 0  Predicted 1\n",
            "True 0        13361           25\n",
            "True 1           27        11782\n",
            "---------------------------\n",
            "GN:\n",
            "        Predicted 0  Predicted 1\n",
            "True 0        13161          225\n",
            "True 1        11607          202\n",
            "---------------------------\n",
            "KNN:\n",
            "        Predicted 0  Predicted 1\n",
            "True 0        13317           69\n",
            "True 1           42        11767\n",
            "---------------------------\n",
            "SVM:\n",
            "        Predicted 0  Predicted 1\n",
            "True 0        13381            5\n",
            "True 1        11788           21\n",
            "---------------------------\n",
            "BP:\n",
            "        Predicted 0  Predicted 1\n",
            "True 0        12814          572\n",
            "True 1          768        11041\n"
          ]
        }
      ],
      "source": [
        "#soal2\n",
        "from sklearn.metrics import confusion_matrix\n",
        "confusion_matrix_DT = confusion_matrix(y_test, Dt_pred)\n",
        "confusion_matrix_GN = confusion_matrix(y_test, G_nb_pred)\n",
        "confusion_matrix_KNN = confusion_matrix(y_test, KNN_pred)\n",
        "confusion_matrix_SVM = confusion_matrix(y_test, svm_pred)\n",
        "confusion_matrix_BP= confusion_matrix(y_test, BP_pred)\n",
        "\n",
        "confusion_matrix_DT_df = pd.DataFrame(confusion_matrix_DT, columns=['Predicted 0', 'Predicted 1'], index=['True 0', 'True 1'])\n",
        "confusion_matrix_GN_df = pd.DataFrame(confusion_matrix_GN, columns=['Predicted 0', 'Predicted 1'], index=['True 0', 'True 1'])\n",
        "confusion_matrix_KNN_df = pd.DataFrame(confusion_matrix_KNN, columns=['Predicted 0', 'Predicted 1'], index=['True 0', 'True 1'])\n",
        "confusion_matrix_SVM_df = pd.DataFrame(confusion_matrix_SVM, columns=['Predicted 0', 'Predicted 1'], index=['True 0', 'True 1'])\n",
        "confusion_matrix_BP_df = pd.DataFrame(confusion_matrix_BP, columns=['Predicted 0', 'Predicted 1'], index=['True 0', 'True 1'])\n",
        "\n",
        "print(\"Confusion Matrix for each model:\")\n",
        "print(\"---------------------------\\nDT:\")\n",
        "print(confusion_matrix_DT_df)\n",
        "print(\"---------------------------\\nGN:\")\n",
        "print(confusion_matrix_GN_df)\n",
        "print(\"---------------------------\\nKNN:\")\n",
        "print(confusion_matrix_KNN_df)\n",
        "print(\"---------------------------\\nSVM:\")\n",
        "print(confusion_matrix_SVM_df)\n",
        "print(\"---------------------------\\nBP:\")\n",
        "print(confusion_matrix_BP_df)"
      ]
    },
    {
      "cell_type": "code",
      "execution_count": 19,
      "metadata": {
        "colab": {
          "base_uri": "https://localhost:8080/"
        },
        "id": "lDtv3uB5WFZW",
        "outputId": "109835c6-f359-4d18-b068-c75abe19445c"
      },
      "outputs": [],
      "source": [
        "from sklearn.metrics import classification_report, roc_curve, roc_auc_score"
      ]
    },
    {
      "cell_type": "code",
      "execution_count": 21,
      "metadata": {},
      "outputs": [
        {
          "name": "stdout",
          "output_type": "stream",
          "text": [
            "Results for Decision Tree:\n",
            "----------------------------\n",
            "Accuracy: 0.9977773367731693\n",
            "Precision: 0.9977975434138077\n",
            "Recall: 0.9974595647387585\n",
            "F1 Score: 0.9976285254510037\n",
            "Classification Report:\n",
            "               precision    recall  f1-score   support\n",
            "\n",
            "           0       1.00      1.00      1.00     13386\n",
            "           1       1.00      1.00      1.00     11809\n",
            "\n",
            "    accuracy                           1.00     25195\n",
            "   macro avg       1.00      1.00      1.00     25195\n",
            "weighted avg       1.00      1.00      1.00     25195\n",
            "\n",
            "AUC: 0.9978852986204534\n"
          ]
        },
        {
          "data": {
            "image/png": "[encoded data removed]",
            "text/plain": [
              "<Figure size 640x480 with 1 Axes>"
            ]
          },
          "metadata": {},
          "output_type": "display_data"
        }
      ],
      "source": [
        "#Decision Tree\n",
        "from sklearn.tree import DecisionTreeClassifier\n",
        "from sklearn.metrics import accuracy_score, precision_score, recall_score, f1_score, classification_report, roc_curve, roc_auc_score\n",
        "import matplotlib.pyplot as plt\n",
        "print(\"Results for Decision Tree:\")\n",
        "print(\"----------------------------\")\n",
        "\n",
        "# محاسبه معیارهای ارزیابی\n",
        "accuracy = accuracy_score(y_test, Dt_pred)\n",
        "precision = precision_score(y_test, Dt_pred)\n",
        "recall = recall_score(y_test, Dt_pred)\n",
        "f1 = f1_score(y_test, Dt_pred)\n",
        "classification_report = classification_report(y_test, Dt_pred)\n",
        "\n",
        "# محاسبه منحنی ROC\n",
        "proba = DecisionTree.predict_proba(X_test)[:, 1]\n",
        "fpr, tpr, thresholds = roc_curve(y_test, proba)\n",
        "auc = roc_auc_score(y_test, proba)\n",
        "\n",
        "# چاپ نتایج\n",
        "print(\"Accuracy:\", accuracy)\n",
        "print(\"Precision:\", precision)\n",
        "print(\"Recall:\", recall)\n",
        "print(\"F1 Score:\", f1)\n",
        "print(\"Classification Report:\\n\", classification_report)\n",
        "print(\"AUC:\", auc)\n",
        "\n",
        "# نمایش منحنی ROC\n",
        "plt.plot(fpr, tpr)\n",
        "plt.xlabel(\"False Positive Rate\")\n",
        "plt.ylabel(\"True Positive Rate\")\n",
        "plt.title(\"ROC Curve\")\n",
        "plt.show()\n"
      ]
    },
    {
      "cell_type": "code",
      "execution_count": 30,
      "metadata": {},
      "outputs": [
        {
          "name": "stdout",
          "output_type": "stream",
          "text": [
            "Results for GaussianNB :\n",
            "----------------------------\n",
            "Accuracy: 0.5303830125024807\n",
            "Precision: 0.47306791569086654\n",
            "Recall: 0.01710559742569227\n",
            "F1 Score: 0.03301732592350442\n",
            "Classification Report:\n",
            "               precision    recall  f1-score   support\n",
            "\n",
            "           0       0.53      0.98      0.69     13386\n",
            "           1       0.47      0.02      0.03     11809\n",
            "\n",
            "    accuracy                           0.53     25195\n",
            "   macro avg       0.50      0.50      0.36     25195\n",
            "weighted avg       0.50      0.53      0.38     25195\n",
            "\n",
            "AUC: 0.9163266735821063\n"
          ]
        },
        {
          "data": {
            "image/png": "[encoded data removed]",
            "text/plain": [
              "<Figure size 640x480 with 1 Axes>"
            ]
          },
          "metadata": {},
          "output_type": "display_data"
        }
      ],
      "source": [
        "from sklearn.metrics import accuracy_score, precision_score, recall_score, f1_score, classification_report, roc_curve, roc_auc_score\n",
        "#Gaussian Naive Bayes\n",
        "print(\"Results for GaussianNB :\")\n",
        "print(\"----------------------------\")\n",
        "from sklearn.naive_bayes import GaussianNB\n",
        "import matplotlib.pyplot as plt\n",
        "# محاسبه معیارهای ارزیابی\n",
        "accuracy = accuracy_score(y_test,G_nb_pred)\n",
        "precision = precision_score(y_test, G_nb_pred)\n",
        "recall = recall_score(y_test, G_nb_pred)\n",
        "f1 = f1_score(y_test, G_nb_pred)\n",
        "classification_report = classification_report(y_test, G_nb_pred)\n",
        "\n",
        "# محاسبه منحنی ROC\n",
        "proba = gaussian_nb.predict_proba(X_test)[:, 1]\n",
        "fpr, tpr, thresholds = roc_curve(y_test, proba)\n",
        "auc = roc_auc_score(y_test, proba)\n",
        "\n",
        "# چاپ نتایج\n",
        "print(\"Accuracy:\", accuracy)\n",
        "print(\"Precision:\", precision)\n",
        "print(\"Recall:\", recall)\n",
        "print(\"F1 Score:\", f1)\n",
        "print(\"Classification Report:\\n\", classification_report)\n",
        "print(\"AUC:\", auc)\n",
        "\n",
        "# نمایش منحنی ROC\n",
        "plt.plot(fpr, tpr)\n",
        "plt.xlabel(\"False Positive Rate\")\n",
        "plt.ylabel(\"True Positive Rate\")\n",
        "plt.title(\"ROC Curve\")\n",
        "plt.show()"
      ]
    },
    {
      "cell_type": "code",
      "execution_count": 35,
      "metadata": {},
      "outputs": [
        {
          "name": "stdout",
          "output_type": "stream",
          "text": [
            " result for Support Vector Machine (SVM) Classification: \n",
            "Accuracy: 0.5319309386783092\n",
            "Precision: 0.8076923076923077\n",
            "Recall: 0.0017783046828689982\n",
            "F1 Score: 0.003548795944233207\n",
            "Classification Report:\n",
            "               precision    recall  f1-score   support\n",
            "\n",
            "           0       0.53      1.00      0.69     13386\n",
            "           1       0.81      0.00      0.00     11809\n",
            "\n",
            "    accuracy                           0.53     25195\n",
            "   macro avg       0.67      0.50      0.35     25195\n",
            "weighted avg       0.66      0.53      0.37     25195\n",
            "\n",
            "AUC: 0.931587020371067\n"
          ]
        },
        {
          "data": {
            "image/png": "[encoded data removed]",
            "text/plain": [
              "<Figure size 640x480 with 1 Axes>"
            ]
          },
          "metadata": {},
          "output_type": "display_data"
        }
      ],
      "source": [
        "#SVM\n",
        "from sklearn.svm import SVC\n",
        "from sklearn.metrics import accuracy_score, precision_score, recall_score, f1_score, classification_report, roc_curve, roc_auc_score\n",
        "print(\" result for Support Vector Machine (SVM) Classification: \")\n",
        "\n",
        "# Calculate the accuracy of the classifier\n",
        "accuracy = accuracy_score(y_test, svm_pred)\n",
        "\n",
        "# Calculate the precision of the classifier\n",
        "precision = precision_score(y_test, svm_pred)\n",
        "\n",
        "# Calculate the recall of the classifier\n",
        "recall = recall_score(y_test, svm_pred)\n",
        "\n",
        "# Calculate the F1 score of the classifier\n",
        "f1 = f1_score(y_test, svm_pred)\n",
        "\n",
        "# Calculate the classification report\n",
        "classification_report = classification_report(y_test, svm_pred)\n",
        "\n",
        "# Calculate the probabilities for ROC curve\n",
        "proba = svm.decision_function(X_test)\n",
        "fpr, tpr, thresholds = roc_curve(y_test, proba)\n",
        "auc = roc_auc_score(y_test, proba)\n",
        "\n",
        "# Print the results\n",
        "print(\"Accuracy:\", accuracy)\n",
        "print(\"Precision:\", precision)\n",
        "print(\"Recall:\", recall)\n",
        "print(\"F1 Score:\", f1)\n",
        "print(\"Classification Report:\\n\", classification_report)\n",
        "print(\"AUC:\", auc)\n",
        "\n",
        "# Plot the ROC curve\n",
        "plt.plot(fpr, tpr)\n",
        "plt.xlabel(\"False Positive Rate\")\n",
        "plt.ylabel(\"True Positive Rate\")\n",
        "plt.title(\"ROC Curve\")\n",
        "plt.show()\n"
      ]
    },
    {
      "cell_type": "code",
      "execution_count": 33,
      "metadata": {},
      "outputs": [
        {
          "name": "stdout",
          "output_type": "stream",
          "text": [
            " result for KNN Classification: \n",
            "Accuracy: 0.9955943639611033\n",
            "Precision: 0.9941703278134505\n",
            "Recall: 0.996443390634262\n",
            "F1-Score: 0.9953055614294777\n",
            "Classification Report:\n",
            "               precision    recall  f1-score   support\n",
            "\n",
            "           0       1.00      0.99      1.00     13386\n",
            "           1       0.99      1.00      1.00     11809\n",
            "\n",
            "    accuracy                           1.00     25195\n",
            "   macro avg       1.00      1.00      1.00     25195\n",
            "weighted avg       1.00      1.00      1.00     25195\n",
            "\n",
            "ROC_ACU: 0.9956443757295022\n"
          ]
        },
        {
          "data": {
            "image/png": "[encoded data removed]",
            "text/plain": [
              "<Figure size 640x480 with 1 Axes>"
            ]
          },
          "metadata": {},
          "output_type": "display_data"
        }
      ],
      "source": [
        "#kNN\n",
        "import pandas as pd\n",
        "from sklearn.model_selection import train_test_split\n",
        "from sklearn.neighbors import KNeighborsClassifier\n",
        "from sklearn.metrics import accuracy_score, precision_score, recall_score, f1_score, classification_report, roc_curve, auc\n",
        "import matplotlib.pyplot as plt\n",
        "print(\" result for KNN Classification: \")\n",
        "\n",
        "# Calculate the evaluation metrics\n",
        "accuracy = accuracy_score(y_test, KNN_pred)\n",
        "precision = precision_score(y_test, KNN_pred)\n",
        "recall = recall_score(y_test, KNN_pred)\n",
        "f1 = f1_score(y_test, KNN_pred)\n",
        "classification_rep = classification_report(y_test, KNN_pred)\n",
        "\n",
        "# Calculate the ROC curve and AUC\n",
        "fpr, tpr, _ = roc_curve(y_test, KNN_pred)\n",
        "roc_auc = auc(fpr, tpr)\n",
        "\n",
        "# Print the evaluation metrics\n",
        "print(\"Accuracy:\", accuracy)\n",
        "print(\"Precision:\", precision)\n",
        "print(\"Recall:\", recall)\n",
        "print(\"F1-Score:\", f1)\n",
        "print(\"Classification Report:\\n\", classification_rep)\n",
        "print(\"ROC_ACU:\",roc_auc)\n",
        "# نمایش منحنی ROC\n",
        "plt.plot(fpr, tpr)\n",
        "plt.xlabel(\"False Positive Rate\")\n",
        "plt.ylabel(\"True Positive Rate\")\n",
        "plt.title(\"ROC Curve\")\n",
        "plt.show()"
      ]
    },
    {
      "cell_type": "code",
      "execution_count": 34,
      "metadata": {},
      "outputs": [
        {
          "name": "stdout",
          "output_type": "stream",
          "text": [
            " result for Backpropagation: \n",
            "Accuracy: 0.9536019051399087\n",
            "Precision Score: 0.9565739787161003\n",
            "Recall Score: 0.9438563807265645\n",
            "F1 Score: 0.950172626912749\n",
            "Classification Report:\n",
            "               precision    recall  f1-score   support\n",
            "\n",
            "           0       0.95      0.96      0.96     13386\n",
            "           1       0.96      0.94      0.95     11809\n",
            "\n",
            "    accuracy                           0.95     25195\n",
            "   macro avg       0.95      0.95      0.95     25195\n",
            "weighted avg       0.95      0.95      0.95     25195\n",
            "\n",
            "AUC Score: 0.96966968091417\n"
          ]
        },
        {
          "data": {
            "image/png": "[encoded data removed]",
            "text/plain": [
              "<Figure size 640x480 with 1 Axes>"
            ]
          },
          "metadata": {},
          "output_type": "display_data"
        }
      ],
      "source": [
        "\n",
        "#Backpropagation\n",
        "from sklearn.metrics import classification_report, roc_curve, roc_auc_score, accuracy_score\n",
        "print(\" result for Backpropagation: \")\n",
        "# Calculate the Precision score\n",
        "precision_score = precision_score(y_test, BP_pred)\n",
        "\n",
        "# Calculate the Recall score\n",
        "recall_score = recall_score(y_test, BP_pred)\n",
        "f1_score = f1_score(y_test, BP_pred)\n",
        "\n",
        "# Generate the classification report\n",
        "classification_report = classification_report(y_test, BP_pred)\n",
        "\n",
        "# Calculate the probabilities for the positive class\n",
        "y_pred_proba = Backpropagation.predict_proba(X_test)[:, 1]\n",
        "\n",
        "# Calculate the ROC curve\n",
        "fpr, tpr, thresholds = roc_curve(y_test, y_pred_proba)\n",
        "\n",
        "# Calculate the AUC score\n",
        "auc_score = roc_auc_score(y_test, y_pred_proba)\n",
        "\n",
        "# Print the evaluation metrics\n",
        "print(\"Accuracy:\", BP_accuracy)\n",
        "print(\"Precision Score:\", precision_score)\n",
        "print(\"Recall Score:\", recall_score)\n",
        "print(\"F1 Score:\", f1_score)\n",
        "print(\"Classification Report:\\n\", classification_report)\n",
        "print(\"AUC Score:\", auc_score)\n",
        "\n",
        "# نمایش منحنی ROC\n",
        "plt.plot(fpr, tpr)\n",
        "plt.xlabel(\"False Positive Rate\")\n",
        "plt.ylabel(\"True Positive Rate\")\n",
        "plt.title(\"ROC Curve\")\n",
        "plt.show()"
      ]
    },
    {
      "cell_type": "code",
      "execution_count": 17,
      "metadata": {},
      "outputs": [],
      "source": [
        "#compute time for algorithm"
      ]
    },
    {
      "cell_type": "code",
      "execution_count": 16,
      "metadata": {},
      "outputs": [
        {
          "name": "stdout",
          "output_type": "stream",
          "text": [
            "Execution Time For Backpropagation after preprocessing: 42.68583273887634 seconds\n"
          ]
        }
      ],
      "source": [
        "import time\n",
        "from sklearn.neural_network import MLPClassifier\n",
        "# Create a Backpropagation classifier\n",
        "backpropagation = MLPClassifier()\n",
        "# Start the timer\n",
        "start_time = time.time()\n",
        "# Train the classifier on the training data\n",
        "backpropagation.fit(X_train, y_train)\n",
        "# Make predictions on the test data\n",
        "BP_pred = backpropagation.predict(X_test)\n",
        "# Calculate the execution time\n",
        "execution_time = time.time() - start_time\n",
        "print(\"Execution Time For Backpropagation after preprocessing:\", execution_time, \"seconds\")\n"
      ]
    },
    {
      "cell_type": "code",
      "execution_count": 18,
      "metadata": {},
      "outputs": [
        {
          "name": "stdout",
          "output_type": "stream",
          "text": [
            "Execution Time For GaussianNB after preprocessing:: 0.15956640243530273 seconds\n"
          ]
        }
      ],
      "source": [
        "import time\n",
        "from sklearn.naive_bayes import GaussianNB\n",
        "gaussian_nb = GaussianNB()\n",
        "# Start the timer\n",
        "start_time = time.time()\n",
        "# Train the classifier on the training data\n",
        "gaussian_nb.fit(X_train, y_train)\n",
        "# Make predictions on the test data\n",
        "G_nb_pred = gaussian_nb.predict(X_test)\n",
        "# Calculate the execution time\n",
        "execution_time = time.time() - start_time\n",
        "# Print the execution time\n",
        "print(\"Execution Time For GaussianNB after preprocessing::\", execution_time, \"seconds\")\n"
      ]
    },
    {
      "cell_type": "code",
      "execution_count": 19,
      "metadata": {},
      "outputs": [
        {
          "name": "stdout",
          "output_type": "stream",
          "text": [
            "Execution Time For KNN after preprocessing: 5.800424098968506 seconds\n"
          ]
        }
      ],
      "source": [
        "import time\n",
        "from sklearn.neighbors import KNeighborsClassifier\n",
        "knn = KNeighborsClassifier()\n",
        "start_time = time.time()\n",
        "knn.fit(X_train, y_train)\n",
        "# Make predictions on the test data\n",
        "KNN_pred = knn.predict(X_test)\n",
        "# Calculate the execution time\n",
        "execution_time = time.time() - start_time\n",
        "# Print the execution time\n",
        "print(\"Execution Time For KNN after preprocessing:\", execution_time, \"seconds\")"
      ]
    },
    {
      "cell_type": "code",
      "execution_count": 20,
      "metadata": {},
      "outputs": [
        {
          "name": "stdout",
          "output_type": "stream",
          "text": [
            "Execution Time For decision_tree after preprocessing: 0.934368371963501 seconds\n"
          ]
        }
      ],
      "source": [
        "import time\n",
        "from sklearn.tree import DecisionTreeClassifier\n",
        "decision_tree = DecisionTreeClassifier()\n",
        "# Start the timer\n",
        "start_time = time.time()\n",
        "# Train the classifier on the training data\n",
        "decision_tree.fit(X_train, y_train)\n",
        "# Make predictions on the test data\n",
        "Dt_pred = decision_tree.predict(X_test)\n",
        "# Calculate the execution time\n",
        "execution_time = time.time() - start_time\n",
        "# Print the execution time\n",
        "print(\"Execution Time For decision_tree after preprocessing:\", execution_time, \"seconds\")\n"
      ]
    },
    {
      "cell_type": "code",
      "execution_count": 23,
      "metadata": {},
      "outputs": [
        {
          "name": "stdout",
          "output_type": "stream",
          "text": [
            "Execution Time For SVM after preprocessing: 1295.6412200927734 seconds\n"
          ]
        }
      ],
      "source": [
        "import time\n",
        "from sklearn.svm import SVC\n",
        "# Create an SVM classifier\n",
        "svm = SVC()\n",
        "# Start the timer\n",
        "start_time = time.time()\n",
        "# Train the classifier on the training data\n",
        "svm.fit(X_train, y_train)\n",
        "# Make predictions on the test data\n",
        "svm_pred = svm.predict(X_test)\n",
        "# Calculate the execution time\n",
        "execution_time = time.time() - start_time\n",
        "# Print the execution time\n",
        "print(\"Execution Time For SVM after preprocessing:\", execution_time, \"seconds\")\n"
      ]
    }
  ],
  "metadata": {
    "colab": {
      "provenance": []
    },
    "kernelspec": {
      "display_name": "Python 3",
      "name": "python3"
    },
    "language_info": {
      "codemirror_mode": {
        "name": "ipython",
        "version": 3
      },
      "file_extension": ".py",
      "mimetype": "text/x-python",
      "name": "python",
      "nbconvert_exporter": "python",
      "pygments_lexer": "ipython3",
      "version": "3.11.3"
    }
  },
  "nbformat": 4,
  "nbformat_minor": 0
}
