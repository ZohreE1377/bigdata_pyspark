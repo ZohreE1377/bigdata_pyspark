{
 "cells": [
  {
   "cell_type": "code",
   "execution_count": 1,
   "metadata": {},
   "outputs": [],
   "source": [
    "import pandas as pd\n",
    "import numpy as np\n",
    "from sklearn.model_selection import train_test_split\n",
    "from sklearn.tree import DecisionTreeClassifier\n",
    "from sklearn.naive_bayes import GaussianNB\n",
    "from sklearn.svm import SVC\n",
    "from sklearn.neighbors import KNeighborsClassifier\n",
    "from sklearn.neural_network import MLPClassifier\n",
    "from sklearn.metrics import accuracy_score"
   ]
  },
  {
   "cell_type": "code",
   "execution_count": 2,
   "metadata": {},
   "outputs": [
    {
     "name": "stdout",
     "output_type": "stream",
     "text": [
      "        duration protocol_type   service flag  src_bytes  dst_bytes  land  \\\n",
      "0              0           udp     other   SF        146          0     0   \n",
      "1              0           tcp   private   S0          0          0     0   \n",
      "2              0           tcp      http   SF        232       8153     0   \n",
      "3              0           tcp      http   SF        199        420     0   \n",
      "4              0           tcp   private  REJ          0          0     0   \n",
      "...          ...           ...       ...  ...        ...        ...   ...   \n",
      "125967         0           tcp   private   S0          0          0     0   \n",
      "125968         8           udp   private   SF        105        145     0   \n",
      "125969         0           tcp      smtp   SF       2231        384     0   \n",
      "125970         0           tcp    klogin   S0          0          0     0   \n",
      "125971         0           tcp  ftp_data   SF        151          0     0   \n",
      "\n",
      "        wrong_fragment  urgent  hot  ...  dst_host_srv_count  \\\n",
      "0                    0       0    0  ...                   1   \n",
      "1                    0       0    0  ...                  26   \n",
      "2                    0       0    0  ...                 255   \n",
      "3                    0       0    0  ...                 255   \n",
      "4                    0       0    0  ...                  19   \n",
      "...                ...     ...  ...  ...                 ...   \n",
      "125967               0       0    0  ...                  25   \n",
      "125968               0       0    0  ...                 244   \n",
      "125969               0       0    0  ...                  30   \n",
      "125970               0       0    0  ...                   8   \n",
      "125971               0       0    0  ...                  77   \n",
      "\n",
      "        dst_host_same_srv_rate  dst_host_diff_srv_rate  \\\n",
      "0                         0.00                    0.60   \n",
      "1                         0.10                    0.05   \n",
      "2                         1.00                    0.00   \n",
      "3                         1.00                    0.00   \n",
      "4                         0.07                    0.07   \n",
      "...                        ...                     ...   \n",
      "125967                    0.10                    0.06   \n",
      "125968                    0.96                    0.01   \n",
      "125969                    0.12                    0.06   \n",
      "125970                    0.03                    0.05   \n",
      "125971                    0.30                    0.03   \n",
      "\n",
      "        dst_host_same_src_port_rate  dst_host_srv_diff_host_rate  \\\n",
      "0                              0.88                         0.00   \n",
      "1                              0.00                         0.00   \n",
      "2                              0.03                         0.04   \n",
      "3                              0.00                         0.00   \n",
      "4                              0.00                         0.00   \n",
      "...                             ...                          ...   \n",
      "125967                         0.00                         0.00   \n",
      "125968                         0.01                         0.00   \n",
      "125969                         0.00                         0.00   \n",
      "125970                         0.00                         0.00   \n",
      "125971                         0.30                         0.00   \n",
      "\n",
      "        dst_host_serror_rate  dst_host_srv_serror_rate  dst_host_rerror_rate  \\\n",
      "0                       0.00                      0.00                  0.00   \n",
      "1                       1.00                      1.00                  0.00   \n",
      "2                       0.03                      0.01                  0.00   \n",
      "3                       0.00                      0.00                  0.00   \n",
      "4                       0.00                      0.00                  1.00   \n",
      "...                      ...                       ...                   ...   \n",
      "125967                  1.00                      1.00                  0.00   \n",
      "125968                  0.00                      0.00                  0.00   \n",
      "125969                  0.72                      0.00                  0.01   \n",
      "125970                  1.00                      1.00                  0.00   \n",
      "125971                  0.00                      0.00                  0.00   \n",
      "\n",
      "        dst_host_srv_rerror_rate    class  \n",
      "0                           0.00   normal  \n",
      "1                           0.00  anomaly  \n",
      "2                           0.01   normal  \n",
      "3                           0.00   normal  \n",
      "4                           1.00  anomaly  \n",
      "...                          ...      ...  \n",
      "125967                      0.00  anomaly  \n",
      "125968                      0.00   normal  \n",
      "125969                      0.00   normal  \n",
      "125970                      0.00  anomaly  \n",
      "125971                      0.00   normal  \n",
      "\n",
      "[125972 rows x 42 columns]\n"
     ]
    }
   ],
   "source": [
    "df = pd.read_csv('C:/Users/zohreh/Desktop/NSL_KDD_3.csv')\n",
    "print(df)\n"
   ]
  },
  {
   "cell_type": "code",
   "execution_count": 3,
   "metadata": {},
   "outputs": [],
   "source": [
    "#preprocessing"
   ]
  },
  {
   "cell_type": "code",
   "execution_count": 4,
   "metadata": {},
   "outputs": [
    {
     "name": "stdout",
     "output_type": "stream",
     "text": [
      "Missing values in each column:\n",
      "duration                       0\n",
      "protocol_type                  0\n",
      "service                        0\n",
      "flag                           0\n",
      "src_bytes                      0\n",
      "dst_bytes                      0\n",
      "land                           0\n",
      "wrong_fragment                 0\n",
      "urgent                         0\n",
      "hot                            0\n",
      "num_failed_logins              0\n",
      "logged_in                      0\n",
      "num_compromised                0\n",
      "root_shell                     0\n",
      "su_attempted                   0\n",
      "num_root                       0\n",
      "num_file_creations             0\n",
      "num_shells                     0\n",
      "num_access_files               0\n",
      "num_outbound_cmds              0\n",
      "is_host_login                  0\n",
      "is_guest_login                 0\n",
      "count                          0\n",
      "srv_count                      0\n",
      "serror_rate                    0\n",
      "srv_serror_rate                0\n",
      "rerror_rate                    0\n",
      "srv_rerror_rate                0\n",
      "same_srv_rate                  0\n",
      "diff_srv_rate                  0\n",
      "srv_diff_host_rate             0\n",
      "dst_host_count                 0\n",
      "dst_host_srv_count             0\n",
      "dst_host_same_srv_rate         0\n",
      "dst_host_diff_srv_rate         0\n",
      "dst_host_same_src_port_rate    0\n",
      "dst_host_srv_diff_host_rate    0\n",
      "dst_host_serror_rate           0\n",
      "dst_host_srv_serror_rate       0\n",
      "dst_host_rerror_rate           0\n",
      "dst_host_srv_rerror_rate       0\n",
      "class                          0\n",
      "dtype: int64\n",
      "Total count of null values: 0\n"
     ]
    }
   ],
   "source": [
    "# Find missing values in each column\n",
    "missing_values = df.isnull().sum()\n",
    "\n",
    "# Calculate the total count of null values\n",
    "total_null_values = missing_values.sum()\n",
    "\n",
    "# Print the missing values count in each column\n",
    "print(\"Missing values in each column:\")\n",
    "print(missing_values)\n",
    "\n",
    "# Print the total count of null values\n",
    "print(\"Total count of null values:\", total_null_values)\n"
   ]
  },
  {
   "cell_type": "code",
   "execution_count": 4,
   "metadata": {},
   "outputs": [],
   "source": [
    "df['class'] = df['class'].replace({'normal': 0, 'anomaly': 1})"
   ]
  },
  {
   "cell_type": "code",
   "execution_count": 5,
   "metadata": {},
   "outputs": [
    {
     "name": "stdout",
     "output_type": "stream",
     "text": [
      "0         0\n",
      "1         1\n",
      "2         0\n",
      "3         0\n",
      "4         1\n",
      "         ..\n",
      "125967    1\n",
      "125968    0\n",
      "125969    0\n",
      "125970    1\n",
      "125971    0\n",
      "Name: class, Length: 125972, dtype: int64\n"
     ]
    }
   ],
   "source": [
    "print(df['class'])"
   ]
  },
  {
   "cell_type": "code",
   "execution_count": 3,
   "metadata": {},
   "outputs": [],
   "source": [
    "#string to number\n",
    "protocol_mapping = {'udp': 0, 'tcp': 1, 'icmp': 2}\n",
    "service_mapping = {'other': 0, 'private': 1, 'http': 2, 'remote_job': 3, 'ftp_data': 4, 'name': 5, 'netbios_ns': 6, 'eco_i': 7, 'mtp': 8, 'telnet': 9, 'finger': 10, 'domain_u': 11, 'supdup': 12, 'uucp_path': 13, 'Z39_50': 14, 'smtp': 15, 'csnet_ns': 16, 'uucp': 17, 'netbios_dgm': 18, 'urp_i': 19, 'auth': 20, 'domain': 21, 'ftp': 22, 'bgp': 23, 'ldap': 24, 'ecr_i': 25, 'gopher': 26, 'vmnet': 27, 'systat': 28, 'http_443': 29, 'efs': 30, 'whois': 31, 'imap4': 32, 'iso_tsap': 33, 'echo': 34, 'klogin': 35, 'link': 36, 'sunrpc': 37, 'login': 38, 'kshell': 39, 'sql_net': 40, 'time': 41, 'hostnames': 42, 'exec': 43, 'ntp_u': 44, 'discard': 45, 'nntp': 46, 'courier': 47, 'ctf': 48, 'ssh': 49, 'daytime': 50, 'shell': 51, 'netstat': 52, 'pop_3': 53, 'nnsp': 54, 'IRC': 55, 'pop_2': 56, 'printer': 57, 'tim_i': 58, 'pm_dump': 59, 'red_i': 60, 'netbios_ssn': 61, 'rje': 62, 'X11': 63, 'urh_i': 64, 'http_8001': 65, 'aol': 66, 'http_2784': 67, 'tftp_u': 68, 'harvest': 69}\n",
    "flag_mapping = {'SF': 0, 'S0': 1, 'REJ': 2, 'RSTR': 3, 'SH': 4, 'RSTO': 5, 'S1': 6, 'RSTOS0': 7, 'S3': 8, 'S2': 9, 'OTH': 10}\n",
    "df['protocol_type'] = df['protocol_type'].map(protocol_mapping)\n",
    "df['service'] = df['service'].map(service_mapping)\n",
    "df['flag'] = df['flag'].map(flag_mapping)\n"
   ]
  },
  {
   "cell_type": "code",
   "execution_count": 6,
   "metadata": {},
   "outputs": [
    {
     "name": "stdout",
     "output_type": "stream",
     "text": [
      "0         0\n",
      "1         1\n",
      "2         0\n",
      "3         0\n",
      "4         1\n",
      "         ..\n",
      "125967    1\n",
      "125968    0\n",
      "125969    0\n",
      "125970    1\n",
      "125971    0\n",
      "Name: class, Length: 125972, dtype: int64\n"
     ]
    }
   ],
   "source": [
    "print(df['class'])"
   ]
  },
  {
   "cell_type": "code",
   "execution_count": 7,
   "metadata": {},
   "outputs": [
    {
     "name": "stdout",
     "output_type": "stream",
     "text": [
      "        duration  protocol_type  service  flag  src_bytes  dst_bytes  land  \\\n",
      "0              0              0        0     0        146          0     0   \n",
      "1              0              1        1     1          0          0     0   \n",
      "2              0              1        2     0        232       8153     0   \n",
      "3              0              1        2     0        199        420     0   \n",
      "4              0              1        1     2          0          0     0   \n",
      "...          ...            ...      ...   ...        ...        ...   ...   \n",
      "125967         0              1        1     1          0          0     0   \n",
      "125968         8              0        1     0        105        145     0   \n",
      "125969         0              1       15     0       2231        384     0   \n",
      "125970         0              1       35     1          0          0     0   \n",
      "125971         0              1        4     0        151          0     0   \n",
      "\n",
      "        wrong_fragment  urgent  hot  ...  dst_host_srv_count  \\\n",
      "0                    0       0    0  ...                   1   \n",
      "1                    0       0    0  ...                  26   \n",
      "2                    0       0    0  ...                 255   \n",
      "3                    0       0    0  ...                 255   \n",
      "4                    0       0    0  ...                  19   \n",
      "...                ...     ...  ...  ...                 ...   \n",
      "125967               0       0    0  ...                  25   \n",
      "125968               0       0    0  ...                 244   \n",
      "125969               0       0    0  ...                  30   \n",
      "125970               0       0    0  ...                   8   \n",
      "125971               0       0    0  ...                  77   \n",
      "\n",
      "        dst_host_same_srv_rate  dst_host_diff_srv_rate  \\\n",
      "0                         0.00                    0.60   \n",
      "1                         0.10                    0.05   \n",
      "2                         1.00                    0.00   \n",
      "3                         1.00                    0.00   \n",
      "4                         0.07                    0.07   \n",
      "...                        ...                     ...   \n",
      "125967                    0.10                    0.06   \n",
      "125968                    0.96                    0.01   \n",
      "125969                    0.12                    0.06   \n",
      "125970                    0.03                    0.05   \n",
      "125971                    0.30                    0.03   \n",
      "\n",
      "        dst_host_same_src_port_rate  dst_host_srv_diff_host_rate  \\\n",
      "0                              0.88                         0.00   \n",
      "1                              0.00                         0.00   \n",
      "2                              0.03                         0.04   \n",
      "3                              0.00                         0.00   \n",
      "4                              0.00                         0.00   \n",
      "...                             ...                          ...   \n",
      "125967                         0.00                         0.00   \n",
      "125968                         0.01                         0.00   \n",
      "125969                         0.00                         0.00   \n",
      "125970                         0.00                         0.00   \n",
      "125971                         0.30                         0.00   \n",
      "\n",
      "        dst_host_serror_rate  dst_host_srv_serror_rate  dst_host_rerror_rate  \\\n",
      "0                       0.00                      0.00                  0.00   \n",
      "1                       1.00                      1.00                  0.00   \n",
      "2                       0.03                      0.01                  0.00   \n",
      "3                       0.00                      0.00                  0.00   \n",
      "4                       0.00                      0.00                  1.00   \n",
      "...                      ...                       ...                   ...   \n",
      "125967                  1.00                      1.00                  0.00   \n",
      "125968                  0.00                      0.00                  0.00   \n",
      "125969                  0.72                      0.00                  0.01   \n",
      "125970                  1.00                      1.00                  0.00   \n",
      "125971                  0.00                      0.00                  0.00   \n",
      "\n",
      "        dst_host_srv_rerror_rate  class  \n",
      "0                           0.00      0  \n",
      "1                           0.00      1  \n",
      "2                           0.01      0  \n",
      "3                           0.00      0  \n",
      "4                           1.00      1  \n",
      "...                          ...    ...  \n",
      "125967                      0.00      1  \n",
      "125968                      0.00      0  \n",
      "125969                      0.00      0  \n",
      "125970                      0.00      1  \n",
      "125971                      0.00      0  \n",
      "\n",
      "[125972 rows x 42 columns]\n"
     ]
    }
   ],
   "source": [
    "print(df)"
   ]
  },
  {
   "cell_type": "code",
   "execution_count": null,
   "metadata": {},
   "outputs": [],
   "source": [
    "from sklearn.ensemble import RandomForestClassifier\n",
    "import numpy as np\n",
    "rf = RandomForestClassifier()\n",
    "# آموزش مدل Random Forest\n",
    "rf.fit(X, y)\n",
    "feature_importances = rf.feature_importances_\n",
    "feature_importance_dict = dict(zip(X.columns, feature_importances))\n",
    "sorted_features = sorted(feature_importance_dict.items(), key=lambda x: x[1], reverse=True)\n",
    "for feature, importance in sorted_features:\n",
    "    print(f\"ویژگی: {feature}، اهمیت: {importance}\")\n"
   ]
  },
  {
   "cell_type": "code",
   "execution_count": 7,
   "metadata": {},
   "outputs": [
    {
     "name": "stdout",
     "output_type": "stream",
     "text": [
      "0         0\n",
      "1         1\n",
      "2         1\n",
      "3         1\n",
      "4         1\n",
      "         ..\n",
      "125967    1\n",
      "125968    0\n",
      "125969    1\n",
      "125970    1\n",
      "125971    1\n",
      "Name: protocol_type, Length: 125972, dtype: int64\n"
     ]
    }
   ],
   "source": [
    "print(df['protocol_type'])"
   ]
  },
  {
   "cell_type": "code",
   "execution_count": 6,
   "metadata": {},
   "outputs": [
    {
     "name": "stdout",
     "output_type": "stream",
     "text": [
      "0         0\n",
      "1         1\n",
      "2         0\n",
      "3         0\n",
      "4         1\n",
      "         ..\n",
      "125967    1\n",
      "125968    0\n",
      "125969    0\n",
      "125970    1\n",
      "125971    0\n",
      "Name: class, Length: 125972, dtype: int64\n"
     ]
    }
   ],
   "source": [
    "print(df['class'])"
   ]
  },
  {
   "cell_type": "code",
   "execution_count": 8,
   "metadata": {},
   "outputs": [],
   "source": [
    "new_df=df"
   ]
  },
  {
   "cell_type": "code",
   "execution_count": 9,
   "metadata": {},
   "outputs": [
    {
     "name": "stdout",
     "output_type": "stream",
     "text": [
      "        duration  protocol_type  service  flag  src_bytes  dst_bytes  land  \\\n",
      "0              0              0        0     0        146          0     0   \n",
      "1              0              1        1     1          0          0     0   \n",
      "2              0              1        2     0        232       8153     0   \n",
      "3              0              1        2     0        199        420     0   \n",
      "4              0              1        1     2          0          0     0   \n",
      "...          ...            ...      ...   ...        ...        ...   ...   \n",
      "125967         0              1        1     1          0          0     0   \n",
      "125968         8              0        1     0        105        145     0   \n",
      "125969         0              1       15     0       2231        384     0   \n",
      "125970         0              1       35     1          0          0     0   \n",
      "125971         0              1        4     0        151          0     0   \n",
      "\n",
      "        wrong_fragment  urgent  hot  ...  dst_host_srv_count  \\\n",
      "0                    0       0    0  ...                   1   \n",
      "1                    0       0    0  ...                  26   \n",
      "2                    0       0    0  ...                 255   \n",
      "3                    0       0    0  ...                 255   \n",
      "4                    0       0    0  ...                  19   \n",
      "...                ...     ...  ...  ...                 ...   \n",
      "125967               0       0    0  ...                  25   \n",
      "125968               0       0    0  ...                 244   \n",
      "125969               0       0    0  ...                  30   \n",
      "125970               0       0    0  ...                   8   \n",
      "125971               0       0    0  ...                  77   \n",
      "\n",
      "        dst_host_same_srv_rate  dst_host_diff_srv_rate  \\\n",
      "0                         0.00                    0.60   \n",
      "1                         0.10                    0.05   \n",
      "2                         1.00                    0.00   \n",
      "3                         1.00                    0.00   \n",
      "4                         0.07                    0.07   \n",
      "...                        ...                     ...   \n",
      "125967                    0.10                    0.06   \n",
      "125968                    0.96                    0.01   \n",
      "125969                    0.12                    0.06   \n",
      "125970                    0.03                    0.05   \n",
      "125971                    0.30                    0.03   \n",
      "\n",
      "        dst_host_same_src_port_rate  dst_host_srv_diff_host_rate  \\\n",
      "0                              0.88                         0.00   \n",
      "1                              0.00                         0.00   \n",
      "2                              0.03                         0.04   \n",
      "3                              0.00                         0.00   \n",
      "4                              0.00                         0.00   \n",
      "...                             ...                          ...   \n",
      "125967                         0.00                         0.00   \n",
      "125968                         0.01                         0.00   \n",
      "125969                         0.00                         0.00   \n",
      "125970                         0.00                         0.00   \n",
      "125971                         0.30                         0.00   \n",
      "\n",
      "        dst_host_serror_rate  dst_host_srv_serror_rate  dst_host_rerror_rate  \\\n",
      "0                       0.00                      0.00                  0.00   \n",
      "1                       1.00                      1.00                  0.00   \n",
      "2                       0.03                      0.01                  0.00   \n",
      "3                       0.00                      0.00                  0.00   \n",
      "4                       0.00                      0.00                  1.00   \n",
      "...                      ...                       ...                   ...   \n",
      "125967                  1.00                      1.00                  0.00   \n",
      "125968                  0.00                      0.00                  0.00   \n",
      "125969                  0.72                      0.00                  0.01   \n",
      "125970                  1.00                      1.00                  0.00   \n",
      "125971                  0.00                      0.00                  0.00   \n",
      "\n",
      "        dst_host_srv_rerror_rate  class  \n",
      "0                           0.00      0  \n",
      "1                           0.00      1  \n",
      "2                           0.01      0  \n",
      "3                           0.00      0  \n",
      "4                           1.00      1  \n",
      "...                          ...    ...  \n",
      "125967                      0.00      1  \n",
      "125968                      0.00      0  \n",
      "125969                      0.00      0  \n",
      "125970                      0.00      1  \n",
      "125971                      0.00      0  \n",
      "\n",
      "[125972 rows x 42 columns]\n"
     ]
    }
   ],
   "source": [
    "print(new_df)"
   ]
  },
  {
   "cell_type": "code",
   "execution_count": 10,
   "metadata": {},
   "outputs": [],
   "source": [
    "#min max Scaler \n",
    "from sklearn.preprocessing import LabelEncoder, MinMaxScaler\n",
    "scaler = MinMaxScaler()\n",
    "df_scale= pd.DataFrame(scaler.fit_transform(new_df), columns=new_df.columns)\n"
   ]
  },
  {
   "cell_type": "code",
   "execution_count": 11,
   "metadata": {},
   "outputs": [
    {
     "name": "stdout",
     "output_type": "stream",
     "text": [
      "        duration  protocol_type  service  flag  src_bytes  dst_bytes  land  \\\n",
      "0              0              0        0     0        146          0     0   \n",
      "1              0              1        1     1          0          0     0   \n",
      "2              0              1        2     0        232       8153     0   \n",
      "3              0              1        2     0        199        420     0   \n",
      "4              0              1        1     2          0          0     0   \n",
      "...          ...            ...      ...   ...        ...        ...   ...   \n",
      "125967         0              1        1     1          0          0     0   \n",
      "125968         8              0        1     0        105        145     0   \n",
      "125969         0              1       15     0       2231        384     0   \n",
      "125970         0              1       35     1          0          0     0   \n",
      "125971         0              1        4     0        151          0     0   \n",
      "\n",
      "        wrong_fragment  urgent  hot  ...  dst_host_srv_count  \\\n",
      "0                    0       0    0  ...                   1   \n",
      "1                    0       0    0  ...                  26   \n",
      "2                    0       0    0  ...                 255   \n",
      "3                    0       0    0  ...                 255   \n",
      "4                    0       0    0  ...                  19   \n",
      "...                ...     ...  ...  ...                 ...   \n",
      "125967               0       0    0  ...                  25   \n",
      "125968               0       0    0  ...                 244   \n",
      "125969               0       0    0  ...                  30   \n",
      "125970               0       0    0  ...                   8   \n",
      "125971               0       0    0  ...                  77   \n",
      "\n",
      "        dst_host_same_srv_rate  dst_host_diff_srv_rate  \\\n",
      "0                         0.00                    0.60   \n",
      "1                         0.10                    0.05   \n",
      "2                         1.00                    0.00   \n",
      "3                         1.00                    0.00   \n",
      "4                         0.07                    0.07   \n",
      "...                        ...                     ...   \n",
      "125967                    0.10                    0.06   \n",
      "125968                    0.96                    0.01   \n",
      "125969                    0.12                    0.06   \n",
      "125970                    0.03                    0.05   \n",
      "125971                    0.30                    0.03   \n",
      "\n",
      "        dst_host_same_src_port_rate  dst_host_srv_diff_host_rate  \\\n",
      "0                              0.88                         0.00   \n",
      "1                              0.00                         0.00   \n",
      "2                              0.03                         0.04   \n",
      "3                              0.00                         0.00   \n",
      "4                              0.00                         0.00   \n",
      "...                             ...                          ...   \n",
      "125967                         0.00                         0.00   \n",
      "125968                         0.01                         0.00   \n",
      "125969                         0.00                         0.00   \n",
      "125970                         0.00                         0.00   \n",
      "125971                         0.30                         0.00   \n",
      "\n",
      "        dst_host_serror_rate  dst_host_srv_serror_rate  dst_host_rerror_rate  \\\n",
      "0                       0.00                      0.00                  0.00   \n",
      "1                       1.00                      1.00                  0.00   \n",
      "2                       0.03                      0.01                  0.00   \n",
      "3                       0.00                      0.00                  0.00   \n",
      "4                       0.00                      0.00                  1.00   \n",
      "...                      ...                       ...                   ...   \n",
      "125967                  1.00                      1.00                  0.00   \n",
      "125968                  0.00                      0.00                  0.00   \n",
      "125969                  0.72                      0.00                  0.01   \n",
      "125970                  1.00                      1.00                  0.00   \n",
      "125971                  0.00                      0.00                  0.00   \n",
      "\n",
      "        dst_host_srv_rerror_rate  class  \n",
      "0                           0.00      0  \n",
      "1                           0.00      1  \n",
      "2                           0.01      0  \n",
      "3                           0.00      0  \n",
      "4                           1.00      1  \n",
      "...                          ...    ...  \n",
      "125967                      0.00      1  \n",
      "125968                      0.00      0  \n",
      "125969                      0.00      0  \n",
      "125970                      0.00      1  \n",
      "125971                      0.00      0  \n",
      "\n",
      "[125972 rows x 42 columns]\n"
     ]
    }
   ],
   "source": [
    "print(new_df)"
   ]
  },
  {
   "cell_type": "code",
   "execution_count": null,
   "metadata": {},
   "outputs": [],
   "source": [
    "import seaborn as sns\n",
    "import matplotlib.pyplot as plt\n",
    "correlation_matrix = df.corr()[['class']]\n",
    "plt.figure(figsize=(12, 10))\n",
    "sns.heatmap(correlation_matrix, annot=True, cmap=\"coolwarm\")\n",
    "plt.title('Correlation with Class')\n",
    "plt.show()\n",
    "\n"
   ]
  },
  {
   "cell_type": "code",
   "execution_count": 12,
   "metadata": {},
   "outputs": [],
   "source": [
    "df.to_csv('C:/Users/zohreh/Desktop/new1_df.csv', index=False)\n"
   ]
  },
  {
   "cell_type": "code",
   "execution_count": 15,
   "metadata": {},
   "outputs": [],
   "source": [
    "X = df_scale.drop('class', axis=1)\n",
    "y = df_scale['class']\n",
    "X_train, X_test, y_train, y_test = train_test_split(X, y, test_size=0.2, random_state=42)"
   ]
  },
  {
   "cell_type": "code",
   "execution_count": 16,
   "metadata": {},
   "outputs": [
    {
     "name": "stdout",
     "output_type": "stream",
     "text": [
      "Accuracy: 0.9970629093074023\n"
     ]
    }
   ],
   "source": [
    "#step1\n",
    "#DecisionTree\n",
    "from sklearn.tree import DecisionTreeClassifier\n",
    "from sklearn.metrics import accuracy_score\n",
    "DecisionTree = DecisionTreeClassifier()\n",
    "DecisionTree.fit(X_train, y_train)\n",
    "Dt_pred = DecisionTree.predict(X_test)\n",
    "accuracy = accuracy_score(y_test, Dt_pred)\n",
    "print(\"Accuracy:\", accuracy)"
   ]
  },
  {
   "cell_type": "code",
   "execution_count": 17,
   "metadata": {},
   "outputs": [
    {
     "name": "stdout",
     "output_type": "stream",
     "text": [
      "Accuracy: 0.8887080769994047\n"
     ]
    }
   ],
   "source": [
    "#step2\n",
    "#Gaussian Naive Bayes\n",
    "from sklearn.naive_bayes import GaussianNB\n",
    "import matplotlib.pyplot as plt\n",
    "\n",
    "# Create a Gaussian Naive Bayes classifier\n",
    "gaussian_nb = GaussianNB()\n",
    "# Train the classifier on the training data\n",
    "gaussian_nb.fit(X_train, y_train)\n",
    "# Make predictions on the test data\n",
    "G_nb_pred = gaussian_nb.predict(X_test)\n",
    "# Calculate the accuracy of the classifier\n",
    "accuracy = accuracy_score(y_test, G_nb_pred)\n",
    "# Print the accuracy\n",
    "print(\"Accuracy:\", accuracy)"
   ]
  },
  {
   "cell_type": "code",
   "execution_count": 29,
   "metadata": {},
   "outputs": [
    {
     "name": "stdout",
     "output_type": "stream",
     "text": [
      "Accuracy: 0.983012502480651\n"
     ]
    }
   ],
   "source": [
    "#step3\n",
    "#svm\n",
    "from sklearn.svm import SVC\n",
    "from sklearn.metrics import accuracy_score\n",
    "# Create an SVM classifier\n",
    "svm = SVC()\n",
    "# Train the classifier on the training data\n",
    "svm.fit(X_train, y_train)\n",
    "# Make predictions on the test data\n",
    "svm_pred = svm.predict(X_test)\n",
    "# Calculate the accuracy of the classifier\n",
    "accuracy = accuracy_score(y_test, svm_pred)\n",
    "# Print the accuracy\n",
    "print(\"Accuracy:\", accuracy)"
   ]
  },
  {
   "cell_type": "code",
   "execution_count": 19,
   "metadata": {},
   "outputs": [
    {
     "name": "stdout",
     "output_type": "stream",
     "text": [
      "Accuracy: 0.9951577693986902\n"
     ]
    }
   ],
   "source": [
    "#step4\n",
    "#KNN\n",
    "from sklearn.neighbors import KNeighborsClassifier\n",
    "from sklearn.metrics import accuracy_score\n",
    "# Create a KNN classifier\n",
    "knn = KNeighborsClassifier()\n",
    "# Train the classifier on the training data\n",
    "knn.fit(X_train, y_train)\n",
    "# Make predictions on the test data\n",
    "KNN_pred = knn.predict(X_test)\n",
    "# Calculate the accuracy of the classifier\n",
    "accuracy = accuracy_score(y_test, KNN_pred)\n",
    "# Print the accuracy\n",
    "print(\"Accuracy:\", accuracy)"
   ]
  },
  {
   "cell_type": "code",
   "execution_count": 20,
   "metadata": {},
   "outputs": [
    {
     "name": "stdout",
     "output_type": "stream",
     "text": [
      "Accuracy: 0.9961103393530463\n"
     ]
    }
   ],
   "source": [
    "# Backpropagation\n",
    "Backpropagation = MLPClassifier()\n",
    "Backpropagation.fit(X_train, y_train)\n",
    "BP_pred = Backpropagation.predict(X_test)\n",
    "BP_accuracy = accuracy_score(y_test, BP_pred)\n",
    "print(\"Accuracy:\", BP_accuracy)"
   ]
  },
  {
   "cell_type": "code",
   "execution_count": 30,
   "metadata": {},
   "outputs": [
    {
     "name": "stdout",
     "output_type": "stream",
     "text": [
      "Confusion Matrix for each model:\n",
      "---------------------------\n",
      "DT:\n",
      "        Predicted 0  Predicted 1\n",
      "True 0        13352           34\n",
      "True 1           40        11769\n",
      "---------------------------\n",
      "GN:\n",
      "        Predicted 0  Predicted 1\n",
      "True 0        11474         1912\n",
      "True 1          892        10917\n",
      "---------------------------\n",
      "KNN:\n",
      "        Predicted 0  Predicted 1\n",
      "True 0        13324           62\n",
      "True 1           60        11749\n",
      "---------------------------\n",
      "SVM:\n",
      "        Predicted 0  Predicted 1\n",
      "True 0        13244          142\n",
      "True 1          286        11523\n",
      "---------------------------\n",
      "BP:\n",
      "        Predicted 0  Predicted 1\n",
      "True 0        13341           45\n",
      "True 1           53        11756\n"
     ]
    }
   ],
   "source": [
    "#soal2\n",
    "from sklearn.metrics import confusion_matrix\n",
    "confusion_matrix_DT = confusion_matrix(y_test, Dt_pred)\n",
    "confusion_matrix_GN = confusion_matrix(y_test, G_nb_pred)\n",
    "confusion_matrix_KNN = confusion_matrix(y_test, KNN_pred)\n",
    "confusion_matrix_SVM = confusion_matrix(y_test, svm_pred)\n",
    "confusion_matrix_BP= confusion_matrix(y_test, BP_pred)\n",
    "\n",
    "confusion_matrix_DT_df = pd.DataFrame(confusion_matrix_DT, columns=['Predicted 0', 'Predicted 1'], index=['True 0', 'True 1'])\n",
    "confusion_matrix_GN_df = pd.DataFrame(confusion_matrix_GN, columns=['Predicted 0', 'Predicted 1'], index=['True 0', 'True 1'])\n",
    "confusion_matrix_KNN_df = pd.DataFrame(confusion_matrix_KNN, columns=['Predicted 0', 'Predicted 1'], index=['True 0', 'True 1'])\n",
    "confusion_matrix_SVM_df = pd.DataFrame(confusion_matrix_SVM, columns=['Predicted 0', 'Predicted 1'], index=['True 0', 'True 1'])\n",
    "confusion_matrix_BP_df = pd.DataFrame(confusion_matrix_BP, columns=['Predicted 0', 'Predicted 1'], index=['True 0', 'True 1'])\n",
    "\n",
    "print(\"Confusion Matrix for each model:\")\n",
    "print(\"---------------------------\\nDT:\")\n",
    "print(confusion_matrix_DT_df)\n",
    "print(\"---------------------------\\nGN:\")\n",
    "print(confusion_matrix_GN_df)\n",
    "print(\"---------------------------\\nKNN:\")\n",
    "print(confusion_matrix_KNN_df)\n",
    "print(\"---------------------------\\nSVM:\")\n",
    "print(confusion_matrix_SVM_df)\n",
    "print(\"---------------------------\\nBP:\")\n",
    "print(confusion_matrix_BP_df)"
   ]
  },
  {
   "cell_type": "code",
   "execution_count": 22,
   "metadata": {},
   "outputs": [],
   "source": [
    "from sklearn.metrics import classification_report, roc_curve, roc_auc_score"
   ]
  },
  {
   "cell_type": "code",
   "execution_count": 28,
   "metadata": {},
   "outputs": [
    {
     "name": "stdout",
     "output_type": "stream",
     "text": [
      "Results for Decision Tree:\n",
      "----------------------------\n",
      "Accuracy: 0.9970629093074023\n",
      "Precision: 0.9971193764297213\n",
      "Recall: 0.9966127529850114\n",
      "F1 Score: 0.9968660003388108\n",
      "Classification Report:\n",
      "               precision    recall  f1-score   support\n",
      "\n",
      "         0.0       1.00      1.00      1.00     13386\n",
      "         1.0       1.00      1.00      1.00     11809\n",
      "\n",
      "    accuracy                           1.00     25195\n",
      "   macro avg       1.00      1.00      1.00     25195\n",
      "weighted avg       1.00      1.00      1.00     25195\n",
      "\n",
      "AUC: 0.9972051985815316\n"
     ]
    },
    {
     "data": {
      "image/png": "[encoded data removed]",
      "text/plain": [
       "<Figure size 640x480 with 1 Axes>"
      ]
     },
     "metadata": {},
     "output_type": "display_data"
    }
   ],
   "source": [
    "from sklearn.tree import DecisionTreeClassifier\n",
    "from sklearn.metrics import accuracy_score, precision_score, recall_score, f1_score, classification_report, roc_curve, roc_auc_score\n",
    "import matplotlib.pyplot as plt\n",
    "print(\"Results for Decision Tree:\")\n",
    "print(\"----------------------------\")\n",
    "\n",
    "# محاسبه معیارهای ارزیابی\n",
    "accuracy = accuracy_score(y_test, Dt_pred)\n",
    "precision = precision_score(y_test, Dt_pred)\n",
    "recall = recall_score(y_test, Dt_pred)\n",
    "f1 = f1_score(y_test, Dt_pred)\n",
    "classification_report = classification_report(y_test, Dt_pred)\n",
    "\n",
    "# محاسبه منحنی ROC\n",
    "proba = DecisionTree.predict_proba(X_test)[:, 1]\n",
    "fpr, tpr, thresholds = roc_curve(y_test, proba)\n",
    "auc = roc_auc_score(y_test, proba)\n",
    "\n",
    "# چاپ نتایج\n",
    "print(\"Accuracy:\", accuracy)\n",
    "print(\"Precision:\", precision)\n",
    "print(\"Recall:\", recall)\n",
    "print(\"F1 Score:\", f1)\n",
    "print(\"Classification Report:\\n\", classification_report)\n",
    "print(\"AUC:\", auc)\n",
    "\n",
    "# نمایش منحنی ROC\n",
    "plt.plot(fpr, tpr)\n",
    "plt.xlabel(\"False Positive Rate\")\n",
    "plt.ylabel(\"True Positive Rate\")\n",
    "plt.title(\"ROC Curve\")\n",
    "plt.show()\n"
   ]
  },
  {
   "cell_type": "code",
   "execution_count": 24,
   "metadata": {},
   "outputs": [
    {
     "name": "stdout",
     "output_type": "stream",
     "text": [
      "Results for GaussianNB :\n",
      "----------------------------\n",
      "Accuracy: 0.8887080769994047\n",
      "Precision: 0.8509626627172812\n",
      "Recall: 0.9244643915657549\n",
      "F1 Score: 0.8861920610439159\n",
      "Classification Report:\n",
      "               precision    recall  f1-score   support\n",
      "\n",
      "         0.0       0.93      0.86      0.89     13386\n",
      "         1.0       0.85      0.92      0.89     11809\n",
      "\n",
      "    accuracy                           0.89     25195\n",
      "   macro avg       0.89      0.89      0.89     25195\n",
      "weighted avg       0.89      0.89      0.89     25195\n",
      "\n",
      "AUC: 0.9512832569880602\n"
     ]
    },
    {
     "data": {
      "image/png": "[encoded data removed]",
      "text/plain": [
       "<Figure size 640x480 with 1 Axes>"
      ]
     },
     "metadata": {},
     "output_type": "display_data"
    }
   ],
   "source": [
    "from sklearn.metrics import accuracy_score, precision_score, recall_score, f1_score, classification_report, roc_curve, roc_auc_score\n",
    "#Gaussian Naive Bayes\n",
    "print(\"Results for GaussianNB :\")\n",
    "print(\"----------------------------\")\n",
    "from sklearn.naive_bayes import GaussianNB\n",
    "import matplotlib.pyplot as plt\n",
    "# محاسبه معیارهای ارزیابی\n",
    "accuracy = accuracy_score(y_test,G_nb_pred)\n",
    "precision = precision_score(y_test, G_nb_pred)\n",
    "recall = recall_score(y_test, G_nb_pred)\n",
    "f1 = f1_score(y_test, G_nb_pred)\n",
    "classification_report = classification_report(y_test, G_nb_pred)\n",
    "\n",
    "# محاسبه منحنی ROC\n",
    "proba = gaussian_nb.predict_proba(X_test)[:, 1]\n",
    "fpr, tpr, thresholds = roc_curve(y_test, proba)\n",
    "auc = roc_auc_score(y_test, proba)\n",
    "\n",
    "# چاپ نتایج\n",
    "print(\"Accuracy:\", accuracy)\n",
    "print(\"Precision:\", precision)\n",
    "print(\"Recall:\", recall)\n",
    "print(\"F1 Score:\", f1)\n",
    "print(\"Classification Report:\\n\", classification_report)\n",
    "print(\"AUC:\", auc)\n",
    "\n",
    "# نمایش منحنی ROC\n",
    "plt.plot(fpr, tpr)\n",
    "plt.xlabel(\"False Positive Rate\")\n",
    "plt.ylabel(\"True Positive Rate\")\n",
    "plt.title(\"ROC Curve\")\n",
    "plt.show()"
   ]
  },
  {
   "cell_type": "code",
   "execution_count": 31,
   "metadata": {},
   "outputs": [
    {
     "name": "stdout",
     "output_type": "stream",
     "text": [
      " result for Support Vector Machine (SVM) Classification: \n",
      "Accuracy: 0.983012502480651\n",
      "Precision: 0.9878268324046292\n",
      "Recall: 0.9757811838428317\n",
      "F1 Score: 0.9817670614296669\n",
      "Classification Report:\n",
      "               precision    recall  f1-score   support\n",
      "\n",
      "         0.0       0.98      0.99      0.98     13386\n",
      "         1.0       0.99      0.98      0.98     11809\n",
      "\n",
      "    accuracy                           0.98     25195\n",
      "   macro avg       0.98      0.98      0.98     25195\n",
      "weighted avg       0.98      0.98      0.98     25195\n",
      "\n",
      "AUC: 0.9982519973364082\n"
     ]
    },
    {
     "data": {
      "image/png": "[encoded data removed]",
      "text/plain": [
       "<Figure size 640x480 with 1 Axes>"
      ]
     },
     "metadata": {},
     "output_type": "display_data"
    }
   ],
   "source": [
    "#SVM\n",
    "from sklearn.svm import SVC\n",
    "from sklearn.metrics import accuracy_score, precision_score, recall_score, f1_score, classification_report, roc_curve, roc_auc_score\n",
    "print(\" result for Support Vector Machine (SVM) Classification: \")\n",
    "\n",
    "# Calculate the accuracy of the classifier\n",
    "accuracy = accuracy_score(y_test, svm_pred)\n",
    "\n",
    "# Calculate the precision of the classifier\n",
    "precision = precision_score(y_test, svm_pred)\n",
    "\n",
    "# Calculate the recall of the classifier\n",
    "recall = recall_score(y_test, svm_pred)\n",
    "\n",
    "# Calculate the F1 score of the classifier\n",
    "f1 = f1_score(y_test, svm_pred)\n",
    "\n",
    "# Calculate the classification report\n",
    "classification_report = classification_report(y_test, svm_pred)\n",
    "\n",
    "# Calculate the probabilities for ROC curve\n",
    "proba = svm.decision_function(X_test)\n",
    "fpr, tpr, thresholds = roc_curve(y_test, proba)\n",
    "auc = roc_auc_score(y_test, proba)\n",
    "\n",
    "# Print the results\n",
    "print(\"Accuracy:\", accuracy)\n",
    "print(\"Precision:\", precision)\n",
    "print(\"Recall:\", recall)\n",
    "print(\"F1 Score:\", f1)\n",
    "print(\"Classification Report:\\n\", classification_report)\n",
    "print(\"AUC:\", auc)\n",
    "\n",
    "# Plot the ROC curve\n",
    "plt.plot(fpr, tpr)\n",
    "plt.xlabel(\"False Positive Rate\")\n",
    "plt.ylabel(\"True Positive Rate\")\n",
    "plt.title(\"ROC Curve\")\n",
    "plt.show()\n"
   ]
  },
  {
   "cell_type": "code",
   "execution_count": 25,
   "metadata": {},
   "outputs": [
    {
     "name": "stdout",
     "output_type": "stream",
     "text": [
      " result for KNN Classification: \n",
      "Accuracy: 0.9951577693986902\n",
      "Precision: 0.994750656167979\n",
      "Recall: 0.9949191294775172\n",
      "F1-Score: 0.9948348856900932\n",
      "Classification Report:\n",
      "               precision    recall  f1-score   support\n",
      "\n",
      "         0.0       1.00      1.00      1.00     13386\n",
      "         1.0       0.99      0.99      0.99     11809\n",
      "\n",
      "    accuracy                           1.00     25195\n",
      "   macro avg       1.00      1.00      1.00     25195\n",
      "weighted avg       1.00      1.00      1.00     25195\n",
      "\n",
      "ROC_ACU: 0.9951437123556718\n"
     ]
    },
    {
     "data": {
      "image/png": "[encoded data removed]",
      "text/plain": [
       "<Figure size 640x480 with 1 Axes>"
      ]
     },
     "metadata": {},
     "output_type": "display_data"
    }
   ],
   "source": [
    "#kNN\n",
    "import pandas as pd\n",
    "from sklearn.model_selection import train_test_split\n",
    "from sklearn.neighbors import KNeighborsClassifier\n",
    "from sklearn.metrics import accuracy_score, precision_score, recall_score, f1_score, classification_report, roc_curve, auc\n",
    "import matplotlib.pyplot as plt\n",
    "print(\" result for KNN Classification: \")\n",
    "\n",
    "# Calculate the evaluation metrics\n",
    "accuracy = accuracy_score(y_test, KNN_pred)\n",
    "precision = precision_score(y_test, KNN_pred)\n",
    "recall = recall_score(y_test, KNN_pred)\n",
    "f1 = f1_score(y_test, KNN_pred)\n",
    "classification_rep = classification_report(y_test, KNN_pred)\n",
    "\n",
    "# Calculate the ROC curve and AUC\n",
    "fpr, tpr, _ = roc_curve(y_test, KNN_pred)\n",
    "roc_auc = auc(fpr, tpr)\n",
    "\n",
    "# Print the evaluation metrics\n",
    "print(\"Accuracy:\", accuracy)\n",
    "print(\"Precision:\", precision)\n",
    "print(\"Recall:\", recall)\n",
    "print(\"F1-Score:\", f1)\n",
    "print(\"Classification Report:\\n\", classification_rep)\n",
    "print(\"ROC_ACU:\",roc_auc)\n",
    "# نمایش منحنی ROC\n",
    "plt.plot(fpr, tpr)\n",
    "plt.xlabel(\"False Positive Rate\")\n",
    "plt.ylabel(\"True Positive Rate\")\n",
    "plt.title(\"ROC Curve\")\n",
    "plt.show()"
   ]
  },
  {
   "cell_type": "code",
   "execution_count": 24,
   "metadata": {},
   "outputs": [
    {
     "name": "stdout",
     "output_type": "stream",
     "text": [
      " result for Backpropagation: \n",
      "Accuracy: 0.9869815439571343\n",
      "F1 Score: 0.9860044376173408\n",
      "Precision Score: 0.9937215102778016\n",
      "Recall Score: 0.9784063002794479\n",
      "Classification Report:\n",
      "               precision    recall  f1-score   support\n",
      "\n",
      "           0       0.98      0.99      0.99     13386\n",
      "           1       0.99      0.98      0.99     11809\n",
      "\n",
      "    accuracy                           0.99     25195\n",
      "   macro avg       0.99      0.99      0.99     25195\n",
      "weighted avg       0.99      0.99      0.99     25195\n",
      "\n",
      "AUC Score: 0.9993595234887905\n"
     ]
    },
    {
     "data": {
      "image/png": "[encoded data removed]",
      "text/plain": [
       "<Figure size 640x480 with 1 Axes>"
      ]
     },
     "metadata": {},
     "output_type": "display_data"
    }
   ],
   "source": [
    "#Backpropagation\n",
    "from sklearn.metrics import classification_report, roc_curve, roc_auc_score, accuracy_score\n",
    "print(\" result for Backpropagation: \")\n",
    "# Calculate the Precision score\n",
    "precision_score = precision_score(y_test, BP_pred)\n",
    "\n",
    "# Calculate the Recall score\n",
    "recall_score = recall_score(y_test, BP_pred)\n",
    "f1_score = f1_score(y_test, BP_pred)\n",
    "\n",
    "# Generate the classification report\n",
    "classification_report = classification_report(y_test, BP_pred)\n",
    "\n",
    "# Calculate the probabilities for the positive class\n",
    "y_pred_proba = Backpropagation.predict_proba(X_test)[:, 1]\n",
    "\n",
    "# Calculate the ROC curve\n",
    "fpr, tpr, thresholds = roc_curve(y_test, y_pred_proba)\n",
    "\n",
    "# Calculate the AUC score\n",
    "auc_score = roc_auc_score(y_test, y_pred_proba)\n",
    "\n",
    "# Print the evaluation metrics\n",
    "print(\"Accuracy:\", BP_accuracy)\n",
    "print(\"Precision Score:\", precision_score)\n",
    "print(\"Recall Score:\", recall_score)\n",
    "print(\"F1 Score:\", f1_score)\n",
    "print(\"Classification Report:\\n\", classification_report)\n",
    "print(\"AUC Score:\", auc_score)\n",
    "\n",
    "# نمایش منحنی ROC\n",
    "plt.plot(fpr, tpr)\n",
    "plt.xlabel(\"False Positive Rate\")\n",
    "plt.ylabel(\"True Positive Rate\")\n",
    "plt.title(\"ROC Curve\")\n",
    "plt.show()"
   ]
  },
  {
   "cell_type": "code",
   "execution_count": 55,
   "metadata": {},
   "outputs": [],
   "source": [
    "#PCA:\n",
    "from sklearn.decomposition import PCA\n",
    "from sklearn.preprocessing import StandardScaler\n",
    "X = df_scale.drop('class', axis=1)\n",
    "y = df_scale['class']\n",
    "\n",
    "scaler = StandardScaler()\n",
    "X_scaled = scaler.fit_transform(X)\n",
    "\n",
    "pca = PCA(n_components=20)\n",
    "X_pca = pca.fit_transform(X_scaled)\n",
    "\n",
    "X_train_pca, X_test_pca, y_train, y_test = train_test_split(X_pca, y, test_size=0.2, random_state=42)"
   ]
  },
  {
   "cell_type": "code",
   "execution_count": 56,
   "metadata": {},
   "outputs": [
    {
     "name": "stdout",
     "output_type": "stream",
     "text": [
      "Accuracy: 0.9950783885691605\n"
     ]
    }
   ],
   "source": [
    "#step1\n",
    "#DecisionTree\n",
    "from sklearn.tree import DecisionTreeClassifier\n",
    "from sklearn.metrics import accuracy_score\n",
    "DecisionTree = DecisionTreeClassifier()\n",
    "DecisionTree.fit(X_train_pca, y_train)\n",
    "Dt_pred = DecisionTree.predict(X_test_pca)\n",
    "accuracy = accuracy_score(y_test, Dt_pred)\n",
    "print(\"Accuracy:\", accuracy)"
   ]
  },
  {
   "cell_type": "code",
   "execution_count": 57,
   "metadata": {},
   "outputs": [
    {
     "name": "stdout",
     "output_type": "stream",
     "text": [
      "Accuracy: 0.8830323476880333\n"
     ]
    }
   ],
   "source": [
    "#step2\n",
    "#Gaussian Naive Bayes\n",
    "from sklearn.naive_bayes import GaussianNB\n",
    "import matplotlib.pyplot as plt\n",
    "\n",
    "# Create a Gaussian Naive Bayes classifier\n",
    "gaussian_nb = GaussianNB()\n",
    "# Train the classifier on the training data\n",
    "gaussian_nb.fit(X_train_pca, y_train)\n",
    "# Make predictions on the test data\n",
    "G_nb_pred = gaussian_nb.predict(X_test_pca)\n",
    "# Calculate the accuracy of the classifier\n",
    "accuracy = accuracy_score(y_test, G_nb_pred)\n",
    "# Print the accuracy\n",
    "print(\"Accuracy:\", accuracy)"
   ]
  },
  {
   "cell_type": "code",
   "execution_count": 58,
   "metadata": {},
   "outputs": [
    {
     "name": "stdout",
     "output_type": "stream",
     "text": [
      "Accuracy: 0.9841635245088312\n"
     ]
    }
   ],
   "source": [
    "#step3\n",
    "#svm\n",
    "from sklearn.svm import SVC\n",
    "from sklearn.metrics import accuracy_score\n",
    "# Create an SVM classifier\n",
    "svm = SVC()\n",
    "# Train the classifier on the training data\n",
    "svm.fit(X_train_pca, y_train)\n",
    "# Make predictions on the test data\n",
    "svm_pred = svm.predict(X_test_pca)\n",
    "# Calculate the accuracy of the classifier\n",
    "accuracy = accuracy_score(y_test, svm_pred)\n",
    "# Print the accuracy\n",
    "print(\"Accuracy:\", accuracy)"
   ]
  },
  {
   "cell_type": "code",
   "execution_count": 59,
   "metadata": {},
   "outputs": [
    {
     "name": "stdout",
     "output_type": "stream",
     "text": [
      "Accuracy: 0.9961897201825759\n"
     ]
    }
   ],
   "source": [
    "#step4\n",
    "#KNN\n",
    "from sklearn.neighbors import KNeighborsClassifier\n",
    "from sklearn.metrics import accuracy_score\n",
    "# Create a KNN classifier\n",
    "knn = KNeighborsClassifier()\n",
    "# Train the classifier on the training data\n",
    "knn.fit(X_train_pca, y_train)\n",
    "# Make predictions on the test data\n",
    "KNN_pred = knn.predict(X_test_pca)\n",
    "# Calculate the accuracy of the classifier\n",
    "accuracy = accuracy_score(y_test, KNN_pred)\n",
    "# Print the accuracy\n",
    "print(\"Accuracy:\", accuracy)"
   ]
  },
  {
   "cell_type": "code",
   "execution_count": 60,
   "metadata": {},
   "outputs": [
    {
     "name": "stdout",
     "output_type": "stream",
     "text": [
      "Accuracy: 0.9924588211946815\n"
     ]
    }
   ],
   "source": [
    "# Backpropagation\n",
    "Backpropagation = MLPClassifier()\n",
    "Backpropagation.fit(X_train_pca, y_train)\n",
    "BP_pred = Backpropagation.predict(X_test_pca)\n",
    "BP_accuracy = accuracy_score(y_test, BP_pred)\n",
    "print(\"Accuracy:\", BP_accuracy)"
   ]
  },
  {
   "cell_type": "code",
   "execution_count": 61,
   "metadata": {},
   "outputs": [
    {
     "name": "stdout",
     "output_type": "stream",
     "text": [
      "Confusion Matrix for each model:\n",
      "---------------------------\n",
      "DT:\n",
      "        Predicted 0  Predicted 1\n",
      "True 0        13332           54\n",
      "True 1           70        11739\n",
      "---------------------------\n",
      "GN:\n",
      "        Predicted 0  Predicted 1\n",
      "True 0        10812         2574\n",
      "True 1          373        11436\n",
      "---------------------------\n",
      "KNN:\n",
      "        Predicted 0  Predicted 1\n",
      "True 0        13342           44\n",
      "True 1           52        11757\n",
      "---------------------------\n",
      "SVM:\n",
      "        Predicted 0  Predicted 1\n",
      "True 0        13234          152\n",
      "True 1          247        11562\n",
      "---------------------------\n",
      "BP:\n",
      "        Predicted 0  Predicted 1\n",
      "True 0        13253          133\n",
      "True 1           57        11752\n"
     ]
    }
   ],
   "source": [
    "#soal2\n",
    "from sklearn.metrics import confusion_matrix\n",
    "confusion_matrix_DT = confusion_matrix(y_test, Dt_pred)\n",
    "confusion_matrix_GN = confusion_matrix(y_test, G_nb_pred)\n",
    "confusion_matrix_KNN = confusion_matrix(y_test, KNN_pred)\n",
    "confusion_matrix_SVM = confusion_matrix(y_test, svm_pred)\n",
    "confusion_matrix_BP= confusion_matrix(y_test, BP_pred)\n",
    "\n",
    "confusion_matrix_DT_df = pd.DataFrame(confusion_matrix_DT, columns=['Predicted 0', 'Predicted 1'], index=['True 0', 'True 1'])\n",
    "confusion_matrix_GN_df = pd.DataFrame(confusion_matrix_GN, columns=['Predicted 0', 'Predicted 1'], index=['True 0', 'True 1'])\n",
    "confusion_matrix_KNN_df = pd.DataFrame(confusion_matrix_KNN, columns=['Predicted 0', 'Predicted 1'], index=['True 0', 'True 1'])\n",
    "confusion_matrix_SVM_df = pd.DataFrame(confusion_matrix_SVM, columns=['Predicted 0', 'Predicted 1'], index=['True 0', 'True 1'])\n",
    "confusion_matrix_BP_df = pd.DataFrame(confusion_matrix_BP, columns=['Predicted 0', 'Predicted 1'], index=['True 0', 'True 1'])\n",
    "\n",
    "print(\"Confusion Matrix for each model:\")\n",
    "print(\"---------------------------\\nDT:\")\n",
    "print(confusion_matrix_DT_df)\n",
    "print(\"---------------------------\\nGN:\")\n",
    "print(confusion_matrix_GN_df)\n",
    "print(\"---------------------------\\nKNN:\")\n",
    "print(confusion_matrix_KNN_df)\n",
    "print(\"---------------------------\\nSVM:\")\n",
    "print(confusion_matrix_SVM_df)\n",
    "print(\"---------------------------\\nBP:\")\n",
    "print(confusion_matrix_BP_df)"
   ]
  },
  {
   "cell_type": "code",
   "execution_count": 62,
   "metadata": {},
   "outputs": [
    {
     "name": "stdout",
     "output_type": "stream",
     "text": [
      "Results for Decision Tree:\n",
      "----------------------------\n",
      "Accuracy: 0.9950783885691605\n",
      "Precision: 0.9954210124650216\n",
      "Recall: 0.99407231772377\n",
      "F1 Score: 0.994746207948479\n",
      "Classification Report:\n",
      "               precision    recall  f1-score   support\n",
      "\n",
      "         0.0       0.99      1.00      1.00     13386\n",
      "         1.0       1.00      0.99      0.99     11809\n",
      "\n",
      "    accuracy                           1.00     25195\n",
      "   macro avg       1.00      1.00      1.00     25195\n",
      "weighted avg       1.00      1.00      1.00     25195\n",
      "\n",
      "AUC: 0.9950610745106158\n"
     ]
    },
    {
     "data": {
      "image/png": "[encoded data removed]",
      "text/plain": [
       "<Figure size 640x480 with 1 Axes>"
      ]
     },
     "metadata": {},
     "output_type": "display_data"
    }
   ],
   "source": [
    "from sklearn.tree import DecisionTreeClassifier\n",
    "from sklearn.metrics import accuracy_score, precision_score, recall_score, f1_score, classification_report, roc_curve, roc_auc_score\n",
    "import matplotlib.pyplot as plt\n",
    "print(\"Results for Decision Tree:\")\n",
    "print(\"----------------------------\")\n",
    "\n",
    "# محاسبه معیارهای ارزیابی\n",
    "accuracy = accuracy_score(y_test, Dt_pred)\n",
    "precision = precision_score(y_test, Dt_pred)\n",
    "recall = recall_score(y_test, Dt_pred)\n",
    "f1 = f1_score(y_test, Dt_pred)\n",
    "classification_report = classification_report(y_test, Dt_pred)\n",
    "\n",
    "# محاسبه منحنی ROC\n",
    "proba = DecisionTree.predict_proba(X_test_pca)[:, 1]\n",
    "fpr, tpr, thresholds = roc_curve(y_test, proba)\n",
    "auc = roc_auc_score(y_test, proba)\n",
    "\n",
    "# چاپ نتایج\n",
    "print(\"Accuracy:\", accuracy)\n",
    "print(\"Precision:\", precision)\n",
    "print(\"Recall:\", recall)\n",
    "print(\"F1 Score:\", f1)\n",
    "print(\"Classification Report:\\n\", classification_report)\n",
    "print(\"AUC:\", auc)\n",
    "\n",
    "# نمایش منحنی ROC\n",
    "plt.plot(fpr, tpr)\n",
    "plt.xlabel(\"False Positive Rate\")\n",
    "plt.ylabel(\"True Positive Rate\")\n",
    "plt.title(\"ROC Curve\")\n",
    "plt.show()"
   ]
  },
  {
   "cell_type": "code",
   "execution_count": 63,
   "metadata": {},
   "outputs": [
    {
     "name": "stdout",
     "output_type": "stream",
     "text": [
      "Results for GaussianNB :\n",
      "----------------------------\n",
      "Accuracy: 0.8830323476880333\n",
      "Precision: 0.8162740899357601\n",
      "Recall: 0.9684139215852317\n",
      "F1 Score: 0.8858592509392308\n",
      "Classification Report:\n",
      "               precision    recall  f1-score   support\n",
      "\n",
      "         0.0       0.97      0.81      0.88     13386\n",
      "         1.0       0.82      0.97      0.89     11809\n",
      "\n",
      "    accuracy                           0.88     25195\n",
      "   macro avg       0.89      0.89      0.88     25195\n",
      "weighted avg       0.90      0.88      0.88     25195\n",
      "\n",
      "AUC: 0.9680278997966499\n"
     ]
    },
    {
     "data": {
      "image/png": "[encoded data removed]",
      "text/plain": [
       "<Figure size 640x480 with 1 Axes>"
      ]
     },
     "metadata": {},
     "output_type": "display_data"
    }
   ],
   "source": [
    "from sklearn.metrics import accuracy_score, precision_score, recall_score, f1_score, classification_report, roc_curve, roc_auc_score\n",
    "#Gaussian Naive Bayes\n",
    "print(\"Results for GaussianNB :\")\n",
    "print(\"----------------------------\")\n",
    "from sklearn.naive_bayes import GaussianNB\n",
    "import matplotlib.pyplot as plt\n",
    "# محاسبه معیارهای ارزیابی\n",
    "accuracy = accuracy_score(y_test,G_nb_pred)\n",
    "precision = precision_score(y_test, G_nb_pred)\n",
    "recall = recall_score(y_test, G_nb_pred)\n",
    "f1 = f1_score(y_test, G_nb_pred)\n",
    "classification_report = classification_report(y_test, G_nb_pred)\n",
    "\n",
    "# محاسبه منحنی ROC\n",
    "proba = gaussian_nb.predict_proba(X_test_pca)[:, 1]\n",
    "fpr, tpr, thresholds = roc_curve(y_test, proba)\n",
    "auc = roc_auc_score(y_test, proba)\n",
    "\n",
    "# چاپ نتایج\n",
    "print(\"Accuracy:\", accuracy)\n",
    "print(\"Precision:\", precision)\n",
    "print(\"Recall:\", recall)\n",
    "print(\"F1 Score:\", f1)\n",
    "print(\"Classification Report:\\n\", classification_report)\n",
    "print(\"AUC:\", auc)\n",
    "\n",
    "# نمایش منحنی ROC\n",
    "plt.plot(fpr, tpr)\n",
    "plt.xlabel(\"False Positive Rate\")\n",
    "plt.ylabel(\"True Positive Rate\")\n",
    "plt.title(\"ROC Curve\")\n",
    "plt.show()"
   ]
  },
  {
   "cell_type": "code",
   "execution_count": 64,
   "metadata": {},
   "outputs": [
    {
     "name": "stdout",
     "output_type": "stream",
     "text": [
      " result for Support Vector Machine (SVM) Classification: \n",
      "Accuracy: 0.9841635245088312\n",
      "Precision: 0.9870240737578966\n",
      "Recall: 0.9790837496824456\n",
      "F1 Score: 0.9830378778217065\n",
      "Classification Report:\n",
      "               precision    recall  f1-score   support\n",
      "\n",
      "         0.0       0.98      0.99      0.99     13386\n",
      "         1.0       0.99      0.98      0.98     11809\n",
      "\n",
      "    accuracy                           0.98     25195\n",
      "   macro avg       0.98      0.98      0.98     25195\n",
      "weighted avg       0.98      0.98      0.98     25195\n",
      "\n",
      "AUC: 0.9977155630298006\n"
     ]
    },
    {
     "data": {
      "image/png": "[encoded data removed]",
      "text/plain": [
       "<Figure size 640x480 with 1 Axes>"
      ]
     },
     "metadata": {},
     "output_type": "display_data"
    }
   ],
   "source": [
    "#SVM\n",
    "from sklearn.svm import SVC\n",
    "from sklearn.metrics import accuracy_score, precision_score, recall_score, f1_score, classification_report, roc_curve, roc_auc_score\n",
    "print(\" result for Support Vector Machine (SVM) Classification: \")\n",
    "\n",
    "# Calculate the accuracy of the classifier\n",
    "accuracy = accuracy_score(y_test, svm_pred)\n",
    "\n",
    "# Calculate the precision of the classifier\n",
    "precision = precision_score(y_test, svm_pred)\n",
    "\n",
    "# Calculate the recall of the classifier\n",
    "recall = recall_score(y_test, svm_pred)\n",
    "\n",
    "# Calculate the F1 score of the classifier\n",
    "f1 = f1_score(y_test, svm_pred)\n",
    "\n",
    "# Calculate the classification report\n",
    "classification_report = classification_report(y_test, svm_pred)\n",
    "\n",
    "# Calculate the probabilities for ROC curve\n",
    "proba = svm.decision_function(X_test_pca)\n",
    "fpr, tpr, thresholds = roc_curve(y_test, proba)\n",
    "auc = roc_auc_score(y_test, proba)\n",
    "\n",
    "# Print the results\n",
    "print(\"Accuracy:\", accuracy)\n",
    "print(\"Precision:\", precision)\n",
    "print(\"Recall:\", recall)\n",
    "print(\"F1 Score:\", f1)\n",
    "print(\"Classification Report:\\n\", classification_report)\n",
    "print(\"AUC:\", auc)\n",
    "\n",
    "# Plot the ROC curve\n",
    "plt.plot(fpr, tpr)\n",
    "plt.xlabel(\"False Positive Rate\")\n",
    "plt.ylabel(\"True Positive Rate\")\n",
    "plt.title(\"ROC Curve\")\n",
    "plt.show()\n"
   ]
  },
  {
   "cell_type": "code",
   "execution_count": 71,
   "metadata": {},
   "outputs": [
    {
     "name": "stdout",
     "output_type": "stream",
     "text": [
      " result for KNN Classification: \n",
      "Accuracy: 0.9961897201825759\n",
      "Precision: 0.9962715024150496\n",
      "Recall: 0.9955965788805149\n",
      "F1-Score: 0.9959339263024143\n",
      "Classification Report:\n",
      "               precision    recall  f1-score   support\n",
      "\n",
      "         0.0       1.00      1.00      1.00     13386\n",
      "         1.0       1.00      1.00      1.00     11809\n",
      "\n",
      "    accuracy                           1.00     25195\n",
      "   macro avg       1.00      1.00      1.00     25195\n",
      "weighted avg       1.00      1.00      1.00     25195\n",
      "\n",
      "ROC_ACU: 0.9961547812974216\n"
     ]
    },
    {
     "data": {
      "image/png": "[encoded data removed]",
      "text/plain": [
       "<Figure size 640x480 with 1 Axes>"
      ]
     },
     "metadata": {},
     "output_type": "display_data"
    }
   ],
   "source": [
    "#kNN\n",
    "from sklearn.metrics import roc_auc_score\n",
    "\n",
    "import pandas as pd\n",
    "from sklearn.model_selection import train_test_split\n",
    "from sklearn.neighbors import KNeighborsClassifier\n",
    "from sklearn.metrics import accuracy_score, precision_score, recall_score, f1_score, classification_report, roc_curve, roc_auc_score\n",
    "from sklearn.metrics import accuracy_score, precision_score, recall_score, f1_score, classification_report, roc_curve, auc\n",
    "import matplotlib.pyplot as plt\n",
    "print(\" result for KNN Classification: \")\n",
    "\n",
    "# Calculate the evaluation metrics\n",
    "accuracy = accuracy_score(y_test, KNN_pred)\n",
    "precision = precision_score(y_test, KNN_pred)\n",
    "recall = recall_score(y_test, KNN_pred)\n",
    "f1 = f1_score(y_test, KNN_pred)\n",
    "classification_rep = classification_report(y_test, KNN_pred)\n",
    "\n",
    "\n",
    "# Calculate the ROC curve and AUC\n",
    "fpr, tpr, _ = roc_curve(y_test, KNN_pred)\n",
    "roc_auc = auc(fpr, tpr)\n",
    "proba = knn.predict_proba(X_test_pca)\n",
    "fpr, tpr, thresholds = roc_curve(y_test, proba[:, 1])\n",
    "auc = roc_auc_score(y_test, proba[:, 1])\n",
    "\n",
    "# Print the evaluation metrics\n",
    "print(\"Accuracy:\", accuracy)\n",
    "print(\"Precision:\", precision)\n",
    "print(\"Recall:\", recall)\n",
    "print(\"F1-Score:\", f1)\n",
    "print(\"Classification Report:\\n\", classification_rep)\n",
    "print(\"ROC_ACU:\",roc_auc)\n",
    "# نمایش منحنی ROC\n",
    "plt.plot(fpr, tpr)\n",
    "plt.xlabel(\"False Positive Rate\")\n",
    "plt.ylabel(\"True Positive Rate\")\n",
    "plt.title(\"ROC Curve\")\n",
    "plt.show()"
   ]
  },
  {
   "cell_type": "code",
   "execution_count": 68,
   "metadata": {},
   "outputs": [
    {
     "name": "stdout",
     "output_type": "stream",
     "text": [
      " result for Backpropagation: \n",
      "Accuracy: 0.9924588211946815\n",
      "Precision Score: 0.9888094236432478\n",
      "Recall Score: 0.9951731730036413\n",
      "F1 Score: 0.9919810922596438\n",
      "Classification Report:\n",
      "               precision    recall  f1-score   support\n",
      "\n",
      "         0.0       1.00      0.99      0.99     13386\n",
      "         1.0       0.99      1.00      0.99     11809\n",
      "\n",
      "    accuracy                           0.99     25195\n",
      "   macro avg       0.99      0.99      0.99     25195\n",
      "weighted avg       0.99      0.99      0.99     25195\n",
      "\n",
      "AUC Score: 0.9994920584480531\n"
     ]
    },
    {
     "data": {
      "image/png": "[encoded data removed]",
      "text/plain": [
       "<Figure size 640x480 with 1 Axes>"
      ]
     },
     "metadata": {},
     "output_type": "display_data"
    }
   ],
   "source": [
    "#Backpropagation\n",
    "from sklearn.metrics import classification_report, roc_curve, roc_auc_score, accuracy_score\n",
    "print(\" result for Backpropagation: \")\n",
    "# Calculate the Precision score\n",
    "precision_score = precision_score(y_test, BP_pred)\n",
    "\n",
    "# Calculate the Recall score\n",
    "recall_score = recall_score(y_test, BP_pred)\n",
    "f1_score = f1_score(y_test, BP_pred)\n",
    "\n",
    "# Generate the classification report\n",
    "classification_report = classification_report(y_test, BP_pred)\n",
    "\n",
    "# Calculate the probabilities for the positive class\n",
    "y_pred_proba = Backpropagation.predict_proba(X_test_pca)[:, 1]\n",
    "\n",
    "# Calculate the ROC curve\n",
    "fpr, tpr, thresholds = roc_curve(y_test, y_pred_proba)\n",
    "\n",
    "# Calculate the AUC score\n",
    "auc_score = roc_auc_score(y_test, y_pred_proba)\n",
    "\n",
    "# Print the evaluation metrics\n",
    "print(\"Accuracy:\", BP_accuracy)\n",
    "print(\"Precision Score:\", precision_score)\n",
    "print(\"Recall Score:\", recall_score)\n",
    "print(\"F1 Score:\", f1_score)\n",
    "print(\"Classification Report:\\n\", classification_report)\n",
    "print(\"AUC Score:\", auc_score)\n",
    "\n",
    "# نمایش منحنی ROC\n",
    "plt.plot(fpr, tpr)\n",
    "plt.xlabel(\"False Positive Rate\")\n",
    "plt.ylabel(\"True Positive Rate\")\n",
    "plt.title(\"ROC Curve\")\n",
    "plt.show()"
   ]
  },
  {
   "cell_type": "code",
   "execution_count": 85,
   "metadata": {},
   "outputs": [
    {
     "name": "stdout",
     "output_type": "stream",
     "text": [
      "Execution Time For Backpropagation after preprocessing: 132.42844462394714 seconds\n"
     ]
    }
   ],
   "source": [
    "import time\n",
    "from sklearn.neural_network import MLPClassifier\n",
    "\n",
    "# Create a Backpropagation classifier\n",
    "backpropagation = MLPClassifier()\n",
    "\n",
    "# Start the timer\n",
    "start_time = time.time()\n",
    "\n",
    "# Train the classifier on the training data\n",
    "backpropagation.fit(X_train, y_train)\n",
    "\n",
    "# Make predictions on the test data\n",
    "BP_pred = backpropagation.predict(X_test)\n",
    "# Calculate the execution time\n",
    "execution_time = time.time() - start_time\n",
    "\n",
    "print(\"Execution Time For Backpropagation after preprocessing:\", execution_time, \"seconds\")\n"
   ]
  },
  {
   "cell_type": "code",
   "execution_count": 83,
   "metadata": {},
   "outputs": [
    {
     "name": "stdout",
     "output_type": "stream",
     "text": [
      "Execution Time For GaussianNB after preprocessing:: 0.16947603225708008 seconds\n"
     ]
    }
   ],
   "source": [
    "import time\n",
    "from sklearn.naive_bayes import GaussianNB\n",
    "gaussian_nb = GaussianNB()\n",
    "# Start the timer\n",
    "start_time = time.time()\n",
    "# Train the classifier on the training data\n",
    "gaussian_nb.fit(X_train, y_train)\n",
    "# Make predictions on the test data\n",
    "G_nb_pred = gaussian_nb.predict(X_test)\n",
    "# Calculate the execution time\n",
    "execution_time = time.time() - start_time\n",
    "# Print the execution time\n",
    "print(\"Execution Time For GaussianNB after preprocessing::\", execution_time, \"seconds\")\n"
   ]
  },
  {
   "cell_type": "code",
   "execution_count": 84,
   "metadata": {},
   "outputs": [
    {
     "name": "stdout",
     "output_type": "stream",
     "text": [
      "Execution Time For KNN after preprocessing: 7.621863842010498 seconds\n"
     ]
    }
   ],
   "source": [
    "import time\n",
    "from sklearn.neighbors import KNeighborsClassifier\n",
    "knn = KNeighborsClassifier()\n",
    "start_time = time.time()\n",
    "knn.fit(X_train, y_train)\n",
    "# Make predictions on the test data\n",
    "KNN_pred = knn.predict(X_test)\n",
    "# Calculate the execution time\n",
    "execution_time = time.time() - start_time\n",
    "# Print the execution time\n",
    "print(\"Execution Time For KNN after preprocessing:\", execution_time, \"seconds\")\n"
   ]
  },
  {
   "cell_type": "code",
   "execution_count": 79,
   "metadata": {},
   "outputs": [
    {
     "name": "stdout",
     "output_type": "stream",
     "text": [
      "Execution Time For decision_tree after preprocessing: 0.6880438327789307 seconds\n"
     ]
    }
   ],
   "source": [
    "import time\n",
    "from sklearn.tree import DecisionTreeClassifier\n",
    "decision_tree = DecisionTreeClassifier()\n",
    "# Start the timer\n",
    "start_time = time.time()\n",
    "# Train the classifier on the training data\n",
    "decision_tree.fit(X_train, y_train)\n",
    "# Make predictions on the test data\n",
    "Dt_pred = decision_tree.predict(X_test)\n",
    "# Calculate the execution time\n",
    "execution_time = time.time() - start_time\n",
    "# Print the execution time\n",
    "print(\"Execution Time For decision_tree after preprocessing:\", execution_time, \"seconds\")\n"
   ]
  },
  {
   "cell_type": "code",
   "execution_count": 86,
   "metadata": {},
   "outputs": [
    {
     "name": "stdout",
     "output_type": "stream",
     "text": [
      "Execution Time For SVM after preprocessing: 79.69549560546875 seconds\n"
     ]
    }
   ],
   "source": [
    "import time\n",
    "from sklearn.svm import SVC\n",
    "# Create an SVM classifier\n",
    "svm = SVC()\n",
    "# Start the timer\n",
    "start_time = time.time()\n",
    "# Train the classifier on the training data\n",
    "svm.fit(X_train, y_train)\n",
    "# Make predictions on the test data\n",
    "svm_pred = svm.predict(X_test)\n",
    "# Calculate the execution time\n",
    "execution_time = time.time() - start_time\n",
    "# Print the execution time\n",
    "print(\"Execution Time For SVM after preprocessing:\", execution_time, \"seconds\")\n"
   ]
  },
  {
   "cell_type": "code",
   "execution_count": 87,
   "metadata": {},
   "outputs": [
    {
     "name": "stdout",
     "output_type": "stream",
     "text": [
      "[[0.         2.82842712 5.65685425 8.48528137]\n",
      " [2.82842712 0.         2.82842712 5.65685425]\n",
      " [5.65685425 2.82842712 0.         2.82842712]\n",
      " [8.48528137 5.65685425 2.82842712 0.        ]]\n"
     ]
    }
   ],
   "source": [
    "import numpy as np\n",
    "from scipy.spatial import distance_matrix\n",
    "\n",
    "# Create a sample dataset\n",
    "data = np.array([[1, 2], [3, 4], [5, 6], [7, 8]])\n",
    "\n",
    "# Compute the distance matrix\n",
    "dist_matrix = distance_matrix(data, data)\n",
    "\n",
    "# Print the distance matrix\n",
    "print(dist_matrix)"
   ]
  }
 ],
 "metadata": {
  "kernelspec": {
   "display_name": "Python 3",
   "language": "python",
   "name": "python3"
  },
  "language_info": {
   "codemirror_mode": {
    "name": "ipython",
    "version": 3
   },
   "file_extension": ".py",
   "mimetype": "text/x-python",
   "name": "python",
   "nbconvert_exporter": "python",
   "pygments_lexer": "ipython3",
   "version": "3.11.3"
  },
  "orig_nbformat": 4
 },
 "nbformat": 4,
 "nbformat_minor": 2
}
